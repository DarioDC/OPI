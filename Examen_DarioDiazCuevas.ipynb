{
 "cells": [
  {
   "cell_type": "markdown",
   "metadata": {},
   "source": [
    "# OPI ANALYTICS: Examen Ciencia de Datos L3/L4\n",
    "\n",
    "## SECCIÓN A\n",
    "\n",
    "### Solicitante: Darío Díaz Cuevas\n",
    "\n",
    "### Fecha de entrega: 08/08/2021"
   ]
  },
  {
   "cell_type": "code",
   "execution_count": 1139,
   "metadata": {},
   "outputs": [],
   "source": [
    "#importacion de librerias\n",
    "\n",
    "%matplotlib inline\n",
    "\n",
    "import pandas as pd\n",
    "import numpy as np\n",
    "import matplotlib.pyplot as plt\n",
    "import seaborn as sns\n",
    "from sklearn.linear_model import LinearRegression"
   ]
  },
  {
   "cell_type": "markdown",
   "metadata": {},
   "source": [
    "## Datos Abiertos de la CDMX\n",
    "\n",
    "La Agencia Digital de Innovación Pública tiene disponibles datos de las carpetas de investigación aportados por la PGJ. La tabla está disponible aquí: https://datos.cdmx.gob.mx/dataset/carpetas-de-investigacion-fgj-de-la-ciudad-de-mexico/resource/48fcb848-220c-4af0-839b-4fd8ac812c0f\n",
    "\n",
    "Utilizando estos datos, responde las siguientes preguntas:"
   ]
  },
  {
   "cell_type": "markdown",
   "metadata": {},
   "source": [
    "**1. ¿Qué pruebas identificarías para asegurar la calidad de estos datos? No es necesario hacerlas, sólo describe la prueba y lo que te dice cada una.**"
   ]
  },
  {
   "cell_type": "markdown",
   "metadata": {},
   "source": [
    "El primer paso es asegurarse se que tienen los datos correctos: Al momento de consultar la liga a los datos, se identificó que la información corresponde a las carpetas de investigación de la Fiscalía General de Justicia (FGJ). Por otro lado, en las indicaciones se indica consultar las carpetas aportadas por la Procuradoría General de Justicia (PGJ), localizada en esta liga: https://datos.cdmx.gob.mx/dataset/carpetas-de-investigacion-pgj-cdmx. \n",
    "\n",
    "Al revisar y comparar ambos conjuntos de datos, se encontró que ambas tablas son similares. Los campos en la tabla de datos correspondientes a la PGJ se encuentran presentes en la tabla de datos de la FJG. Similarmente, esta última tabla posee un mayor número de observaciones y contiene información más actualizada. Contiene registros para el año 2020, mientras que la tabla de datos de la PGJ posee información hasta 2019. Debido a esto y a la actual transición PGJ --> FGJ, se utiliza la tabla obtenida de la liga original.\n",
    "\n",
    "Antes de comenzar a investigar cualquier tipo de interrogante sobre los datos, es conveniente echarles un vistazo para conocer su estructura. Para esto, se comienza por leer los datos y desplegar una porción de ellos, así como un resumen sobre los tipos de datos."
   ]
  },
  {
   "cell_type": "code",
   "execution_count": 530,
   "metadata": {},
   "outputs": [],
   "source": [
    "#lectura del dataset de carpetas de investigacion\n",
    "carp_inv = pd.read_csv('carpetas_completa_junio_2021.csv')"
   ]
  },
  {
   "cell_type": "code",
   "execution_count": 531,
   "metadata": {},
   "outputs": [
    {
     "data": {
      "text/html": [
       "<div>\n",
       "<style scoped>\n",
       "    .dataframe tbody tr th:only-of-type {\n",
       "        vertical-align: middle;\n",
       "    }\n",
       "\n",
       "    .dataframe tbody tr th {\n",
       "        vertical-align: top;\n",
       "    }\n",
       "\n",
       "    .dataframe thead th {\n",
       "        text-align: right;\n",
       "    }\n",
       "</style>\n",
       "<table border=\"1\" class=\"dataframe\">\n",
       "  <thead>\n",
       "    <tr style=\"text-align: right;\">\n",
       "      <th></th>\n",
       "      <th>ao_hechos</th>\n",
       "      <th>mes_hechos</th>\n",
       "      <th>fecha_hechos</th>\n",
       "      <th>ao_inicio</th>\n",
       "      <th>mes_inicio</th>\n",
       "      <th>fecha_inicio</th>\n",
       "      <th>delito</th>\n",
       "      <th>fiscalia</th>\n",
       "      <th>agencia</th>\n",
       "      <th>unidad_investigacion</th>\n",
       "      <th>categoria_delito</th>\n",
       "      <th>calle_hechos</th>\n",
       "      <th>calle_hechos2</th>\n",
       "      <th>colonia_hechos</th>\n",
       "      <th>alcaldia_hechos</th>\n",
       "      <th>competencia</th>\n",
       "      <th>longitud</th>\n",
       "      <th>latitud</th>\n",
       "      <th>tempo</th>\n",
       "    </tr>\n",
       "  </thead>\n",
       "  <tbody>\n",
       "    <tr>\n",
       "      <td>0</td>\n",
       "      <td>2016.0</td>\n",
       "      <td>Enero</td>\n",
       "      <td>2016-01-31 22:16:00</td>\n",
       "      <td>2016</td>\n",
       "      <td>Febrero</td>\n",
       "      <td>2016-02-01 00:25:44</td>\n",
       "      <td>DAÑO EN PROPIEDAD AJENA INTENCIONAL</td>\n",
       "      <td>INVESTIGACIÓN EN BENITO JUÁREZ</td>\n",
       "      <td>BJ-2</td>\n",
       "      <td>UI-3CD</td>\n",
       "      <td>DELITO DE BAJO IMPACTO</td>\n",
       "      <td>CALZ. DE TLALPAN</td>\n",
       "      <td>LAGO PTE.</td>\n",
       "      <td>AMÉRICAS UNIDAS</td>\n",
       "      <td>BENITO JUAREZ</td>\n",
       "      <td>NaN</td>\n",
       "      <td>-99.140215</td>\n",
       "      <td>19.380315</td>\n",
       "      <td>NaN</td>\n",
       "    </tr>\n",
       "    <tr>\n",
       "      <td>1</td>\n",
       "      <td>2016.0</td>\n",
       "      <td>Enero</td>\n",
       "      <td>2016-01-31 20:50:00</td>\n",
       "      <td>2016</td>\n",
       "      <td>Febrero</td>\n",
       "      <td>2016-02-01 00:52:37</td>\n",
       "      <td>ROBO DE VEHICULO DE SERVICIO PARTICULAR CON VI...</td>\n",
       "      <td>INVESTIGACIÓN PARA LA ATENCIÓN DEL DELITO DE R...</td>\n",
       "      <td>ORIENTEII</td>\n",
       "      <td>UI-3CD</td>\n",
       "      <td>ROBO DE VEHÍCULO CON Y SIN VIOLENCIA</td>\n",
       "      <td>SUR 25 A</td>\n",
       "      <td>GRANJEROS</td>\n",
       "      <td>LOS CIPRESES</td>\n",
       "      <td>IZTAPALAPA</td>\n",
       "      <td>NaN</td>\n",
       "      <td>-99.108403</td>\n",
       "      <td>19.352859</td>\n",
       "      <td>NaN</td>\n",
       "    </tr>\n",
       "    <tr>\n",
       "      <td>2</td>\n",
       "      <td>2016.0</td>\n",
       "      <td>Febrero</td>\n",
       "      <td>2016-02-01 00:30:00</td>\n",
       "      <td>2016</td>\n",
       "      <td>Febrero</td>\n",
       "      <td>2016-02-01 01:33:26</td>\n",
       "      <td>NARCOMENUDEO POSESION SIMPLE</td>\n",
       "      <td>INVESTIGACIÓN PARA LA ATENCIÓN DE NIÑOS, NIÑAS...</td>\n",
       "      <td>57</td>\n",
       "      <td>UI-3CD</td>\n",
       "      <td>DELITO DE BAJO IMPACTO</td>\n",
       "      <td>BATALLONES ROJOS</td>\n",
       "      <td>NaN</td>\n",
       "      <td>UNIDAD VICENTE GUERRERO</td>\n",
       "      <td>IZTAPALAPA</td>\n",
       "      <td>NaN</td>\n",
       "      <td>-99.061321</td>\n",
       "      <td>19.356451</td>\n",
       "      <td>NaN</td>\n",
       "    </tr>\n",
       "    <tr>\n",
       "      <td>3</td>\n",
       "      <td>2016.0</td>\n",
       "      <td>Enero</td>\n",
       "      <td>2016-01-31 22:00:00</td>\n",
       "      <td>2016</td>\n",
       "      <td>Febrero</td>\n",
       "      <td>2016-02-01 02:09:11</td>\n",
       "      <td>ROBO A TRANSEUNTE EN VIA PUBLICA CON VIOLENCIA</td>\n",
       "      <td>INVESTIGACIÓN EN IZTAPALAPA</td>\n",
       "      <td>IZP-6</td>\n",
       "      <td>UI-3CD</td>\n",
       "      <td>ROBO A TRANSEUNTE EN VÍA PÚBLICA CON Y SIN VIO...</td>\n",
       "      <td>GERANIO</td>\n",
       "      <td>GAVILLEROS</td>\n",
       "      <td>EMILIANO ZAPATA</td>\n",
       "      <td>IZTAPALAPA</td>\n",
       "      <td>NaN</td>\n",
       "      <td>-98.976379</td>\n",
       "      <td>19.331633</td>\n",
       "      <td>NaN</td>\n",
       "    </tr>\n",
       "    <tr>\n",
       "      <td>4</td>\n",
       "      <td>2015.0</td>\n",
       "      <td>Diciembre</td>\n",
       "      <td>2015-12-25 12:00:00</td>\n",
       "      <td>2016</td>\n",
       "      <td>Febrero</td>\n",
       "      <td>2016-02-01 02:16:49</td>\n",
       "      <td>DENUNCIA DE HECHOS</td>\n",
       "      <td>INVESTIGACIÓN EN BENITO JUÁREZ</td>\n",
       "      <td>BJ-1</td>\n",
       "      <td>UI-3SD</td>\n",
       "      <td>HECHO NO DELICTIVO</td>\n",
       "      <td>SAN FRANCISCO</td>\n",
       "      <td>AVENIDA COLONIA DEL VALLE</td>\n",
       "      <td>DEL VALLE CENTRO</td>\n",
       "      <td>BENITO JUAREZ</td>\n",
       "      <td>NaN</td>\n",
       "      <td>-99.172189</td>\n",
       "      <td>19.387114</td>\n",
       "      <td>NaN</td>\n",
       "    </tr>\n",
       "    <tr>\n",
       "      <td>...</td>\n",
       "      <td>...</td>\n",
       "      <td>...</td>\n",
       "      <td>...</td>\n",
       "      <td>...</td>\n",
       "      <td>...</td>\n",
       "      <td>...</td>\n",
       "      <td>...</td>\n",
       "      <td>...</td>\n",
       "      <td>...</td>\n",
       "      <td>...</td>\n",
       "      <td>...</td>\n",
       "      <td>...</td>\n",
       "      <td>...</td>\n",
       "      <td>...</td>\n",
       "      <td>...</td>\n",
       "      <td>...</td>\n",
       "      <td>...</td>\n",
       "      <td>...</td>\n",
       "      <td>...</td>\n",
       "    </tr>\n",
       "    <tr>\n",
       "      <td>1248919</td>\n",
       "      <td>2021.0</td>\n",
       "      <td>Junio</td>\n",
       "      <td>2021-06-29 17:00:00</td>\n",
       "      <td>2021</td>\n",
       "      <td>Junio</td>\n",
       "      <td>2021-06-30 23:32:31</td>\n",
       "      <td>LESIONES CULPOSAS POR TRANSITO VEHICULAR EN CO...</td>\n",
       "      <td>FISCALÍA DE INVESTIGACIÓN TERRITORIAL EN MILPA...</td>\n",
       "      <td>MIL-2</td>\n",
       "      <td>UI-3SD</td>\n",
       "      <td>DELITO DE BAJO IMPACTO</td>\n",
       "      <td>OAXTEPEC</td>\n",
       "      <td>NaN</td>\n",
       "      <td>SAN MARCOS (SANTA ANA TLACOTENCO)</td>\n",
       "      <td>MILPA ALTA</td>\n",
       "      <td>FUERO COMUN</td>\n",
       "      <td>-98.992460</td>\n",
       "      <td>19.168371</td>\n",
       "      <td>NaN</td>\n",
       "    </tr>\n",
       "    <tr>\n",
       "      <td>1248920</td>\n",
       "      <td>2021.0</td>\n",
       "      <td>Junio</td>\n",
       "      <td>2021-06-04 19:00:00</td>\n",
       "      <td>2021</td>\n",
       "      <td>Junio</td>\n",
       "      <td>2021-06-30 23:36:45</td>\n",
       "      <td>ROBO DE ACCESORIOS DE AUTO</td>\n",
       "      <td>FISCALÍA DE INVESTIGACIÓN TERRITORIAL EN CUAUH...</td>\n",
       "      <td>CUH-7</td>\n",
       "      <td>UI-3SD</td>\n",
       "      <td>DELITO DE BAJO IMPACTO</td>\n",
       "      <td>AVENIDA MEXICO</td>\n",
       "      <td>TEOTIHUACAN</td>\n",
       "      <td>HIPÓDROMO</td>\n",
       "      <td>CUAUHTEMOC</td>\n",
       "      <td>FUERO COMUN</td>\n",
       "      <td>-99.168311</td>\n",
       "      <td>19.412001</td>\n",
       "      <td>NaN</td>\n",
       "    </tr>\n",
       "    <tr>\n",
       "      <td>1248921</td>\n",
       "      <td>2021.0</td>\n",
       "      <td>Junio</td>\n",
       "      <td>2021-06-30 19:40:00</td>\n",
       "      <td>2021</td>\n",
       "      <td>Junio</td>\n",
       "      <td>2021-06-30 23:37:12</td>\n",
       "      <td>AMENAZAS</td>\n",
       "      <td>FISCALÍA DE INVESTIGACIÓN TERRITORIAL EN IZTAC...</td>\n",
       "      <td>IZC-2</td>\n",
       "      <td>UI-3SD</td>\n",
       "      <td>DELITO DE BAJO IMPACTO</td>\n",
       "      <td>CUATRO</td>\n",
       "      <td>NaN</td>\n",
       "      <td>AGRÍCOLA PANTITLAN</td>\n",
       "      <td>IZTACALCO</td>\n",
       "      <td>FUERO COMUN</td>\n",
       "      <td>-99.061716</td>\n",
       "      <td>19.419028</td>\n",
       "      <td>NaN</td>\n",
       "    </tr>\n",
       "    <tr>\n",
       "      <td>1248922</td>\n",
       "      <td>2021.0</td>\n",
       "      <td>Mayo</td>\n",
       "      <td>2021-05-16 21:08:00</td>\n",
       "      <td>2021</td>\n",
       "      <td>Junio</td>\n",
       "      <td>2021-06-30 23:45:57</td>\n",
       "      <td>DAÑO EN PROPIEDAD AJENA INTENCIONAL</td>\n",
       "      <td>FISCALÍA DE INVESTIGACIÓN TERRITORIAL EN CUAUH...</td>\n",
       "      <td>CUH-7</td>\n",
       "      <td>UI-3SD</td>\n",
       "      <td>DELITO DE BAJO IMPACTO</td>\n",
       "      <td>ALVARO OBREGON</td>\n",
       "      <td>NaN</td>\n",
       "      <td>ROMA NORTE</td>\n",
       "      <td>CUAUHTEMOC</td>\n",
       "      <td>FUERO COMUN</td>\n",
       "      <td>-99.158994</td>\n",
       "      <td>19.418615</td>\n",
       "      <td>NaN</td>\n",
       "    </tr>\n",
       "    <tr>\n",
       "      <td>1248923</td>\n",
       "      <td>2021.0</td>\n",
       "      <td>Junio</td>\n",
       "      <td>2021-06-29 17:00:00</td>\n",
       "      <td>2021</td>\n",
       "      <td>Junio</td>\n",
       "      <td>2021-06-30 23:52:34</td>\n",
       "      <td>LESIONES INTENCIONALES POR ARMA BLANCA</td>\n",
       "      <td>FISCALÍA DE INVESTIGACIÓN TERRITORIAL EN IZTAP...</td>\n",
       "      <td>IZP-8</td>\n",
       "      <td>UI-3CD</td>\n",
       "      <td>DELITO DE BAJO IMPACTO</td>\n",
       "      <td>REFORMA # 100</td>\n",
       "      <td>NaN</td>\n",
       "      <td>LOMAS DE SAN LORENZO</td>\n",
       "      <td>IZTAPALAPA</td>\n",
       "      <td>FUERO COMUN</td>\n",
       "      <td>-99.069557</td>\n",
       "      <td>19.321406</td>\n",
       "      <td>NaN</td>\n",
       "    </tr>\n",
       "  </tbody>\n",
       "</table>\n",
       "<p>1248924 rows × 19 columns</p>\n",
       "</div>"
      ],
      "text/plain": [
       "         ao_hechos mes_hechos         fecha_hechos  ao_inicio mes_inicio  \\\n",
       "0           2016.0      Enero  2016-01-31 22:16:00       2016    Febrero   \n",
       "1           2016.0      Enero  2016-01-31 20:50:00       2016    Febrero   \n",
       "2           2016.0    Febrero  2016-02-01 00:30:00       2016    Febrero   \n",
       "3           2016.0      Enero  2016-01-31 22:00:00       2016    Febrero   \n",
       "4           2015.0  Diciembre  2015-12-25 12:00:00       2016    Febrero   \n",
       "...            ...        ...                  ...        ...        ...   \n",
       "1248919     2021.0      Junio  2021-06-29 17:00:00       2021      Junio   \n",
       "1248920     2021.0      Junio  2021-06-04 19:00:00       2021      Junio   \n",
       "1248921     2021.0      Junio  2021-06-30 19:40:00       2021      Junio   \n",
       "1248922     2021.0       Mayo  2021-05-16 21:08:00       2021      Junio   \n",
       "1248923     2021.0      Junio  2021-06-29 17:00:00       2021      Junio   \n",
       "\n",
       "                fecha_inicio  \\\n",
       "0        2016-02-01 00:25:44   \n",
       "1        2016-02-01 00:52:37   \n",
       "2        2016-02-01 01:33:26   \n",
       "3        2016-02-01 02:09:11   \n",
       "4        2016-02-01 02:16:49   \n",
       "...                      ...   \n",
       "1248919  2021-06-30 23:32:31   \n",
       "1248920  2021-06-30 23:36:45   \n",
       "1248921  2021-06-30 23:37:12   \n",
       "1248922  2021-06-30 23:45:57   \n",
       "1248923  2021-06-30 23:52:34   \n",
       "\n",
       "                                                    delito  \\\n",
       "0                      DAÑO EN PROPIEDAD AJENA INTENCIONAL   \n",
       "1        ROBO DE VEHICULO DE SERVICIO PARTICULAR CON VI...   \n",
       "2                             NARCOMENUDEO POSESION SIMPLE   \n",
       "3           ROBO A TRANSEUNTE EN VIA PUBLICA CON VIOLENCIA   \n",
       "4                                       DENUNCIA DE HECHOS   \n",
       "...                                                    ...   \n",
       "1248919  LESIONES CULPOSAS POR TRANSITO VEHICULAR EN CO...   \n",
       "1248920                         ROBO DE ACCESORIOS DE AUTO   \n",
       "1248921                                           AMENAZAS   \n",
       "1248922                DAÑO EN PROPIEDAD AJENA INTENCIONAL   \n",
       "1248923             LESIONES INTENCIONALES POR ARMA BLANCA   \n",
       "\n",
       "                                                  fiscalia    agencia  \\\n",
       "0                           INVESTIGACIÓN EN BENITO JUÁREZ       BJ-2   \n",
       "1        INVESTIGACIÓN PARA LA ATENCIÓN DEL DELITO DE R...  ORIENTEII   \n",
       "2        INVESTIGACIÓN PARA LA ATENCIÓN DE NIÑOS, NIÑAS...         57   \n",
       "3                              INVESTIGACIÓN EN IZTAPALAPA      IZP-6   \n",
       "4                           INVESTIGACIÓN EN BENITO JUÁREZ       BJ-1   \n",
       "...                                                    ...        ...   \n",
       "1248919  FISCALÍA DE INVESTIGACIÓN TERRITORIAL EN MILPA...      MIL-2   \n",
       "1248920  FISCALÍA DE INVESTIGACIÓN TERRITORIAL EN CUAUH...      CUH-7   \n",
       "1248921  FISCALÍA DE INVESTIGACIÓN TERRITORIAL EN IZTAC...      IZC-2   \n",
       "1248922  FISCALÍA DE INVESTIGACIÓN TERRITORIAL EN CUAUH...      CUH-7   \n",
       "1248923  FISCALÍA DE INVESTIGACIÓN TERRITORIAL EN IZTAP...      IZP-8   \n",
       "\n",
       "        unidad_investigacion  \\\n",
       "0                     UI-3CD   \n",
       "1                     UI-3CD   \n",
       "2                     UI-3CD   \n",
       "3                     UI-3CD   \n",
       "4                     UI-3SD   \n",
       "...                      ...   \n",
       "1248919               UI-3SD   \n",
       "1248920               UI-3SD   \n",
       "1248921               UI-3SD   \n",
       "1248922               UI-3SD   \n",
       "1248923               UI-3CD   \n",
       "\n",
       "                                          categoria_delito      calle_hechos  \\\n",
       "0                                   DELITO DE BAJO IMPACTO  CALZ. DE TLALPAN   \n",
       "1                     ROBO DE VEHÍCULO CON Y SIN VIOLENCIA          SUR 25 A   \n",
       "2                                   DELITO DE BAJO IMPACTO  BATALLONES ROJOS   \n",
       "3        ROBO A TRANSEUNTE EN VÍA PÚBLICA CON Y SIN VIO...           GERANIO   \n",
       "4                                       HECHO NO DELICTIVO     SAN FRANCISCO   \n",
       "...                                                    ...               ...   \n",
       "1248919                             DELITO DE BAJO IMPACTO          OAXTEPEC   \n",
       "1248920                             DELITO DE BAJO IMPACTO    AVENIDA MEXICO   \n",
       "1248921                             DELITO DE BAJO IMPACTO            CUATRO   \n",
       "1248922                             DELITO DE BAJO IMPACTO    ALVARO OBREGON   \n",
       "1248923                             DELITO DE BAJO IMPACTO     REFORMA # 100   \n",
       "\n",
       "                     calle_hechos2                     colonia_hechos  \\\n",
       "0                        LAGO PTE.                    AMÉRICAS UNIDAS   \n",
       "1                        GRANJEROS                       LOS CIPRESES   \n",
       "2                              NaN            UNIDAD VICENTE GUERRERO   \n",
       "3                       GAVILLEROS                    EMILIANO ZAPATA   \n",
       "4        AVENIDA COLONIA DEL VALLE                   DEL VALLE CENTRO   \n",
       "...                            ...                                ...   \n",
       "1248919                        NaN  SAN MARCOS (SANTA ANA TLACOTENCO)   \n",
       "1248920                TEOTIHUACAN                          HIPÓDROMO   \n",
       "1248921                        NaN                 AGRÍCOLA PANTITLAN   \n",
       "1248922                        NaN                         ROMA NORTE   \n",
       "1248923                        NaN               LOMAS DE SAN LORENZO   \n",
       "\n",
       "        alcaldia_hechos  competencia   longitud    latitud  tempo  \n",
       "0         BENITO JUAREZ          NaN -99.140215  19.380315    NaN  \n",
       "1            IZTAPALAPA          NaN -99.108403  19.352859    NaN  \n",
       "2            IZTAPALAPA          NaN -99.061321  19.356451    NaN  \n",
       "3            IZTAPALAPA          NaN -98.976379  19.331633    NaN  \n",
       "4         BENITO JUAREZ          NaN -99.172189  19.387114    NaN  \n",
       "...                 ...          ...        ...        ...    ...  \n",
       "1248919      MILPA ALTA  FUERO COMUN -98.992460  19.168371    NaN  \n",
       "1248920      CUAUHTEMOC  FUERO COMUN -99.168311  19.412001    NaN  \n",
       "1248921       IZTACALCO  FUERO COMUN -99.061716  19.419028    NaN  \n",
       "1248922      CUAUHTEMOC  FUERO COMUN -99.158994  19.418615    NaN  \n",
       "1248923      IZTAPALAPA  FUERO COMUN -99.069557  19.321406    NaN  \n",
       "\n",
       "[1248924 rows x 19 columns]"
      ]
     },
     "execution_count": 531,
     "metadata": {},
     "output_type": "execute_result"
    }
   ],
   "source": [
    "#visualizacion de la tabla\n",
    "carp_inv"
   ]
  },
  {
   "cell_type": "markdown",
   "metadata": {},
   "source": [
    "A continuación se muestra el tamaño y tipo de datos en la tabla:"
   ]
  },
  {
   "cell_type": "code",
   "execution_count": 532,
   "metadata": {},
   "outputs": [
    {
     "name": "stdout",
     "output_type": "stream",
     "text": [
      "La tabla contiene 1,248,924 observaciones y 19 columnas.\n"
     ]
    }
   ],
   "source": [
    "print(f\"La tabla contiene {carp_inv.shape[0]:,} observaciones y {carp_inv.shape[1]:,} columnas.\")"
   ]
  },
  {
   "cell_type": "code",
   "execution_count": 533,
   "metadata": {},
   "outputs": [
    {
     "data": {
      "text/plain": [
       "ao_hechos               float64\n",
       "mes_hechos               object\n",
       "fecha_hechos             object\n",
       "ao_inicio                 int64\n",
       "mes_inicio               object\n",
       "fecha_inicio             object\n",
       "delito                   object\n",
       "fiscalia                 object\n",
       "agencia                  object\n",
       "unidad_investigacion     object\n",
       "categoria_delito         object\n",
       "calle_hechos             object\n",
       "calle_hechos2            object\n",
       "colonia_hechos           object\n",
       "alcaldia_hechos          object\n",
       "competencia              object\n",
       "longitud                float64\n",
       "latitud                 float64\n",
       "tempo                   float64\n",
       "dtype: object"
      ]
     },
     "execution_count": 533,
     "metadata": {},
     "output_type": "execute_result"
    }
   ],
   "source": [
    "#tipos de datos\n",
    "carp_inv.dtypes"
   ]
  },
  {
   "cell_type": "markdown",
   "metadata": {},
   "source": [
    "Para asegurar la calidad de los datos, es necesario inspeccionar varios aspectos. \n",
    "\n",
    "Para comenzar, es importante identificar valores faltantes, sobre todo para el caso de variables necesarias para el análisis. En caso de haber valores faltantes, se debe determinar si su presencia es o no relevante, o admisible. Por ejemplo, en este dataset existe una columna llamada `tempo` cuyo valor único es `NaN`. Esta columna podría ser descartada ya que no aporta información alguna. Cuando se tienen valores faltantes en variables necesarias para uno o más análisis, debe definirse cómo proceder: Si la mayoría de observaciones en una o más variables es faltante, en ocasiones se deja fuera del análisis a dichas variables. En caso de que sólo una pequeña porción de los records de la tabla contenga valores faltantes, estos pueden omitirse en muchos casos. Cuando la omisión de observaciones con valores faltantes no es una opción y estos ocurren en un patrón aleatorio y en una cantidad moderada, puede recurrirse a la imputación. Existen diversos métodos que van desde imputación usando medidas de tendencia central, hasta predicción por interpolación o algoritmos de aprendizaje supervisado.\n",
    "\n",
    "También es necesario revisar el tipo de datos, y formatos para fechas. Por ejemplo, en esta tabla de datos, el año de ocurrencia de los delitos está representado por un número flotante (2016.0, 2017.0, etc), mientras que el año de inicio de la investigación es entero (2016, 2017, etc.).\n",
    "\n",
    "Otro chequeo que puede considerarse se relaciona con la unicidad de las observaciones. Dependiendo de los datos puede ser necesario verificar que no existan renglones duplicados. En todo caso, es conveniente tener o definir un campo o índice que permita identificar de manera única cada observación en la tabla.\n",
    "\n",
    "Adicionalmente se debe revisar que los campos no contengan inconsistencias o valores inadmisibles que generalmente son el producto de errores de captura o procesamiento, como por ejemplo, años negativos, fechas o rangos de fechas sin sentido u orden temporal, tipos de datos mezclados (ejemplo: representar los meses con números del 1 al 12, y encontrar observaciones en donde se representan con texto), etc. La detección de anomalías no es lo mismo que la detección de outliers, y el proceso para determinar cuáles observaciones son producto de un error y cuales surgen simplemente a partir de la variabilidad de los datos, es rara vez claro. En mi opinión, eliminar observaciones atípicas durante el limpiado de datos no es lo más recomendabe, a menos que no exista duda alguna de que se trata de errores.\n",
    "\n",
    "Finalmente, el proceso de limpieza y análisis de los datos no es lineal. Existen ocasiones en que primero se realizan pruebas para tener datos de calidad, y una vez que se está realizando el análisis y se va conociendo mejor la estructura de los datos, se identifican nuevos problemas o situaciones que requieren de nuevas pruebas de calidad y data cleaning."
   ]
  },
  {
   "cell_type": "markdown",
   "metadata": {},
   "source": [
    "**2. Identifica los delitos que van a la alza y a la baja en la CDMX (ten cuidado con los delitos con pocas ocurrencias).**"
   ]
  },
  {
   "cell_type": "markdown",
   "metadata": {},
   "source": [
    "Los distintos registros de delitos contenidos en la tabla ocurren en distintas zonas del país. Si bien no existe un campo que indique la ciudad en la cual ocurrió el delito, el campo `alcaldia_hechos` permite identificar si éste ocurrió en la CDMX. Debido a que la ocurrencia de delitos en CDMX es abundante en la tabla, es posible obtener las 16 alcaldías de la CDMX como las primeras 16 observaciones del vector de alcaldías únicas. "
   ]
  },
  {
   "cell_type": "code",
   "execution_count": 534,
   "metadata": {},
   "outputs": [
    {
     "data": {
      "text/plain": [
       "array(['BENITO JUAREZ', 'IZTAPALAPA', 'CUAUHTEMOC', 'TLAHUAC',\n",
       "       'IZTACALCO', 'GUSTAVO A MADERO', 'MIGUEL HIDALGO', 'TLALPAN',\n",
       "       'ALVARO OBREGON', 'VENUSTIANO CARRANZA', 'AZCAPOTZALCO',\n",
       "       'CUAJIMALPA DE MORELOS', 'COYOACAN', 'XOCHIMILCO',\n",
       "       'LA MAGDALENA CONTRERAS', 'MILPA ALTA', 'TLALNEPANTLA DE BAZ',\n",
       "       'VERACRUZ', 'IXCATEOPAN DE CUAUHTEMOC', 'TUXPAM', 'HUIXQUILUCAN',\n",
       "       'OCOYOACAC', 'ECATEPEC DE MORELOS', nan, 'SIN DATO', 'TULTEPEC',\n",
       "       'ACATZINGO', 'GUELATAO DE JUAREZ', 'HERMOSILLO', 'ENSENADA',\n",
       "       'IXTAPALUCA', 'NAUCALPAN DE JUAREZ', 'NEZAHUALCOYOTL', 'CHALCO',\n",
       "       'TLATLAYA', 'SAN JUAN GUICHICOVI', 'ZAPOPAN',\n",
       "       'SAN PEDRO IXTLAHUACA', 'NICOLAS ROMERO', 'VICTORIA', 'CULIACAN',\n",
       "       'VALLE DE CHALCO SOLIDARIDAD', 'TIANGUISTENCO', 'TEHUACAN',\n",
       "       'ACAPULCO DE JUAREZ', 'TEMASCALCINGO', 'CUAUTITLAN IZCALLI',\n",
       "       'TIJUANA', 'CUERNAVACA', 'TENANGO DEL VALLE',\n",
       "       'TULANCINGO DE BRAVO', 'CORREGIDORA', 'JUAREZ HIDALGO', 'CELAYA',\n",
       "       'CHICOLOAPAN', 'ATIZAPAN DE ZARAGOZA', 'TOLUCA', 'TORREON',\n",
       "       'TULTITLAN', 'BATOPILAS', 'MERIDA', 'HUEHUETOCA', 'CHIMALHUACAN',\n",
       "       'IGUALAPA', 'LA PAZ', 'AMECAMECA', 'ATIZAPAN', 'PINAL DE AMOLES',\n",
       "       'MONTERREY', 'CUITLAHUAC', 'TECAMAC', 'MEXICALI', 'MATIAS ROMERO',\n",
       "       'CORDOBA', 'TANCITARO', 'DURANGO', 'ATENCO', 'SAN SALVADOR',\n",
       "       'PUEBLA', 'GUANAJUATO', 'LEON', 'APIZACO', 'VILLA DE ZAACHILA',\n",
       "       'LERMA', 'TLANEPANTLA', 'CUAUTEPEC', 'COLON', 'CADEREYTA JIMENEZ',\n",
       "       'HUAMANTLA', 'TEPIC', 'SANTIAGO YOSONDUA',\n",
       "       'SAN PEDRO GARZA GARCIA', 'MINERAL DE LA REFORMA', 'TEXCOCO',\n",
       "       'NUEVO LAREDO', 'CUAUTITLAN', 'JOQUICINGO', 'OAXACA DE JUAREZ',\n",
       "       'AGUASCALIENTES', 'ACOLMAN', 'MANZANILLO',\n",
       "       'SAN FRANCISCO DEL RINCON', 'METEPEC', 'PUERTO VALLARTA',\n",
       "       'ZUMPANGO', 'TOLCAYUCA', 'CHILPANCINGO DE LOS BRAVO', 'CORTAZAR',\n",
       "       'COACALCO DE BERRIOZABAL', 'PAPALOTLA DE XICOHTENCATL', 'TLAXCALA',\n",
       "       'SANTA ANA MAYA', 'OTUMBA', 'SALAMANCA', 'SOLIDARIDAD',\n",
       "       'ISLA MUJERES', 'ZINAPECUARO', 'SAN MATEO ATENCO', 'MORELIA',\n",
       "       'TIZAYUCA', 'TEOTIHUACAN', 'GUADALUPE', 'TEMAMATLA', 'COLIMA',\n",
       "       'GUAYMAS', 'COMONDU', 'VILLA DEL CARBON', 'VALLE DE BRAVO',\n",
       "       'ALVARADO', 'CAJEME', 'TENANCINGO', 'SAHUAYO', 'TEMIXCO',\n",
       "       'JOJUTLA', 'TETELA DE OCAMPO', 'ZIHUATANEJO DE  AZUETA', 'REYNOSA',\n",
       "       'PACHUCA DE SOTO', 'SAN LUIS POTOSI', 'TAXCO DE ALARCON', 'SILAO',\n",
       "       'ALMOLOYA DE JUAREZ', 'JILOTEPEC', 'PURISIMA DEL RINCON',\n",
       "       'LA UNION DE ISIDORO MONTES DE OCA', 'AMAXAC DE GUERRERO',\n",
       "       'MALINALCO', 'ARROYO SECO', 'AGUA DULCE', 'NACAJUCA', 'ZITACUARO',\n",
       "       'ZAUTLA', 'CUAUTLA', 'CALIMAYA', 'AMANALCO', 'ZACATECAS',\n",
       "       'POZA RICA DE HIDALGO', 'HUATABAMPO', 'JUCHITEPEC',\n",
       "       'PASO DEL MACHO', 'GOMEZ PALACIO', 'MIGUEL ALEMAN',\n",
       "       'FELIPE CARRILLO PUERTO', 'XALAPA', 'BOCOYNA', 'PUENTE DE IXTLA',\n",
       "       'COMITAN DE DOMINGUEZ', 'TLALNEPANTLA', 'TELOLOAPAN', 'XOCHITEPEC',\n",
       "       'XALATLACO', 'AYAPANGO', 'TEPETLAOXTOC', 'ZAPOTLAN DE JUAREZ',\n",
       "       'HUITZILAC', 'AMEALCO DE BONFIL', 'ATOYAC DE ALVAREZ',\n",
       "       'SAN ANDRES CHOLULA', 'EDUARDO NERI', 'TEZOYUCA', 'TEOLOYUCAN',\n",
       "       'EL BOSQUE', 'YECAPIXTLA', 'EL ORO', 'TECOZAUTLA', 'ORIZABA',\n",
       "       'LA PIEDAD', 'MELCHOR OCAMPO', 'JALTIPAN', 'TLAYACAPAN',\n",
       "       'JOCOTITLAN', 'QUERETARO', 'GUADALAJARA', 'CALVILLO',\n",
       "       'SANTA MARIA COLOTEPEC', 'BOCA DEL RIO', 'JIUTEPEC', 'URUAPAN',\n",
       "       'IRAPUATO', 'JALACINGO', 'TULA DE ALLENDE', 'EPAZOYUCAN',\n",
       "       'TLACHICHILCO', 'ZACATELCO', 'TAPALPA', 'SAN MARTIN TEXMELUCAN',\n",
       "       'TLALTIZAPAN', 'VILLAHERMOSA O CENTRO', 'ATLACOMULCO',\n",
       "       'NOPALTEPEC', 'APASEO EL GRANDE', 'TAPACHULA', 'VALLE DE SANTIAGO',\n",
       "       'TEOCALTICHE', 'SAN JOSE DEL RINCON', 'ARMERIA', 'ATLATLAHUCAN',\n",
       "       'SULTEPEC', 'TEPOZTLAN', 'JALTENCO', 'SANTIAGO DE ANAYA',\n",
       "       'VILLA VICTORIA', 'AXAPUSCO', 'EBANO', 'TEPETITLA DE LARDIZABAL',\n",
       "       'ZACAPU', 'SAN NICOLAS DE LOS GARZA', 'TEPOTZOTLAN',\n",
       "       'SANTA MARIA HUATULCO', 'LOS CABOS', 'TLALMANALCO',\n",
       "       'IXTAPAN DEL ORO', 'SALVADOR ALVARADO', 'RODEO', 'ATLIXCO',\n",
       "       'ABALA', 'TEPECOACUILCO DE TRUJANO', 'SAN JUAN DEL RIO', 'PARAISO',\n",
       "       'ZACAPOAXTLA', 'KANASIN', 'CHAMPOTON',\n",
       "       'ELOXOCHITLAN DE FLORES MAGON', 'IXTLAHUACA', 'TONALA',\n",
       "       'HUIMANGUILLO', 'SAN LUIS DE LA PAZ', 'IZUCAR DE MATAMOROS',\n",
       "       'EZEQUIEL MONTES', 'CARDENAS', 'SAN JUAN BAUTISTA TUXTEPEC',\n",
       "       'CALNALI', 'CARDONAL', 'TENANGO DEL AIRE', 'TLAPACOYAN',\n",
       "       'SALINA CRUZ', 'ALLENDE', 'FRESNILLO', 'TIHUATLAN',\n",
       "       'ENCARNACION DE DIAZ', 'CADEREYTA DE MONTES', 'JALPAN DE SERRA',\n",
       "       'DOLORES HIDALGO', 'EL CARMEN TEQUEXQUITLA',\n",
       "       'ALMOLOYA DE ALQUISIRAS', 'TLAPEHUALA', 'TEQUIXQUIAC',\n",
       "       'JOSE MARIA MORELOS', 'EMILIANO ZAPATA', 'HUEHUETLA',\n",
       "       'HUAUCHINANGO', 'LERDO', 'CAÑADA MORELOS', 'COZUMEL',\n",
       "       'TEMASCALAPA', 'MOROLEON', 'CALERA', 'MINATITLAN', 'OCOTLAN',\n",
       "       'NEXTLALPAN', 'LOS REYES', 'CHIHUAHUA', 'TETELA DEL VOLCAN',\n",
       "       'OTHON P. BLANCO', 'ROMITA', 'SAN ANDRES TUXTLA', 'ALTAMIRA',\n",
       "       'MORELOS', 'HUATUSCO', 'SANTA CRUZ XOXOCOTLAN',\n",
       "       'CERRO DE SAN PEDRO', 'ATLAUTLA', 'TAMPICO', 'MATAMOROS',\n",
       "       'TENOSIQUE', 'COCOTITLAN', 'CUAUTLANCINGO', 'PAPALOTLA',\n",
       "       'MAZATLAN', 'CHILON', 'PARRAS', 'GARCIA', 'BUCTZOTZ',\n",
       "       'SAN FELIPE DEL PROGRESO', 'PAPANTLA', 'JIQUIPILCO',\n",
       "       'ZINACANTEPEC', 'CUETZALAN DEL PROGRESO', 'CAMPECHE', 'ASCENSION',\n",
       "       'AHOME', 'TOMATLAN', 'TEPEAPULCO', 'CALPULALPAN', 'EL FUERTE',\n",
       "       'YEHUALTEPEC', 'PANUCO', 'CHICONCUAC', 'ACTOPAN', 'ALFAJAYUCAN',\n",
       "       'CATAZAJA', 'MACUSPANA', 'TLAJOMULCO DE ZUÑIGA', 'BUENAVENTURA',\n",
       "       'IGUALA DE LA INDEPENDENCIA', 'OMETEPEC', 'TECAMACHALCO', 'ACULCO',\n",
       "       'LAFRAGUA', 'METZTITLAN', 'ASIENTOS', 'NAUPAN', 'COENEO',\n",
       "       'IXMIQUILPAN', 'PENJAMO', 'COYUCA DE BENITEZ',\n",
       "       'ZAPOTLAN EL GRANDE', 'COATZACOALCOS', 'YAUTEPEC',\n",
       "       'SAN MARTIN DE LAS PIRAMIDES', 'XONACATLAN', 'TEJUPILCO',\n",
       "       'CIUDAD MADERO', 'SAN ANTONIO LA ISLA', 'SAN MIGUEL XOXTLA',\n",
       "       'TEPEJI DEL RIO DE OCAMPO', 'PROGRESO DE OBREGON', 'VALLE HERMOSO',\n",
       "       'TEPEACA', 'CARRILLO PUERTO', 'TEOTITLAN DE FLORES MAGON',\n",
       "       'TUXTLA GUTIERREZ', 'HUIXTAN', 'SAN PEDRO POCHUTLA', 'OCAMPO',\n",
       "       'ACAMBARO', 'VILLA DE ALLENDE', 'SAN PEDRO MIXTEPEC - DISTR. 22 -',\n",
       "       'GENERAL ESCOBEDO', 'TECOLUTLA', 'TARIMORO', 'ACAYUCAN',\n",
       "       'CHAPULTEPEC', 'TOTOLAPAN', 'AHUATLAN', 'APAN', 'CIUDAD VALLES',\n",
       "       'APATZINGAN', 'ALTO LUCERO DE GUTIERREZ BARRIOS', 'TLAHUELILPAN',\n",
       "       'IXTAPAN DE LA SAL', 'ACAXOCHITLAN', 'COYOTEPEC', 'RIO BLANCO',\n",
       "       'YAUHQUEMECAN', 'SAN PEDRO ATOYAC', 'ACONCHI', 'ATITALAQUIA',\n",
       "       'TEQUISQUIAPAN', 'COMPOSTELA', 'CARMEN', 'HUEYAPAN DE OCAMPO',\n",
       "       'JARAL DEL PROGRESO', 'COYUCA DE CATALAN', 'TLAXCO', 'ZAMORA',\n",
       "       'TLANALAPA', 'HUEYPOXTLA', 'APODACA', 'ATOTONILCO EL GRANDE',\n",
       "       'JUAN GALINDO', 'DZILAM DE BRAVO', 'SAN PEDRO JICAYAN', 'TECATE',\n",
       "       'HUIXTLA', 'ESPAÑITA', 'MEDELLIN', 'CIUDAD DEL MAIZ',\n",
       "       'ATZITZINTLA', 'COPANATOYAC', 'LORETO', 'AHUMADA', 'LIBRES',\n",
       "       'HIDALGO', 'ZEMPOALA', 'ACAMBAY', 'SAN GREGORIO ATZOMPA',\n",
       "       'PATZCUARO', 'BERRIOZABAL', 'SAN MATIAS TLALANCALECA', 'SENGUIO',\n",
       "       'SAN JUAN DE LOS LAGOS', 'CHARO', 'SAN BARTOLO COYOTEPEC',\n",
       "       'YURIRIA', 'SAN PEDRO CHOLULA', 'MULEGE', 'AYALA', 'AMECA',\n",
       "       'ACUAMANALA DE MIGUEL HIDALGO', 'LAZARO CARDENAS', 'MUZQUIZ',\n",
       "       'LOS REYES DE JUAREZ', 'MIACATLAN', 'MAGDALENA', 'TACAMBARO',\n",
       "       'LAGOS DE MORENO', 'JESUS MARIA', 'SABINAS', 'JALOSTOTITLAN',\n",
       "       'SAN PABLO DEL MONTE', 'JUAREZ', 'MARIANO ESCOBEDO', 'CHIAUTLA',\n",
       "       'NOGALES', 'PEROTE', 'MINERAL DEL MONTE', 'MARAVATIO', 'ESPERANZA',\n",
       "       'NAVOJOA', 'ZACATLAN', 'XOCHICOATLAN',\n",
       "       'NANACAMILPA DE MARIANO ARISTA', 'COPALA', 'SAN MIGUEL TOTOLAPAN',\n",
       "       'TECPAN DE GALEANA', 'TANCANHUITZ', 'XICOTEPEC',\n",
       "       'ATOTONILCO DE TULA', 'SANTA MARIA COYOTEPEC', 'CABO CORRIENTES',\n",
       "       'PETLALCINGO', 'CAPULHUAC', 'PISAFLORES', 'TULCINGO', 'TLAXCOAPAN',\n",
       "       'TALA', 'TLAQUEPAQUE', 'IGNACIO DE LA LLAVE', 'YURECUARO',\n",
       "       'CHIAPA DE CORZO', 'COSAMALOAPAN DE CARPIO', 'SAIN ALTO',\n",
       "       'TLACHICHUCA', 'PUNGARABATO', 'TEXCALYACAC',\n",
       "       'MIAHUATLAN DE PORFIRIO DIAZ', 'GšEMEZ', 'ECUANDUREO', 'MARIN',\n",
       "       'SAN DIEGO DE LA UNION', 'SALTILLO', 'HUITZUCO DE LOS FIGUEROA',\n",
       "       'SINALOA', 'TETEPANGO', 'TIQUICHEO DE NICOLAS ROMERO', 'HALACHO',\n",
       "       'CHIGNAHUAPAN', 'HOPELCHEN', 'NACO', 'SAN CRISTOBAL DE LAS CASAS',\n",
       "       'ZAPOTITLAN PALMAS', 'CHAPA DE MOTA', 'XICO',\n",
       "       'PUTLA VILLA DE GUERRERO', 'MATEHUALA', 'TICUL', 'ACATLAN',\n",
       "       'SANTIAGO TULANTEPEC DE LUGO GUERRERO', 'CUAUTEPEC DE HINOJOSA',\n",
       "       'APETATITLAN DE ANTONIO CARVAJAL', 'TEMOAYA', 'CHAPULHUACAN',\n",
       "       'GENERAL HELIODORO CASTILLO', 'SAN FELIPE TEJALAPAM', 'APAXCO',\n",
       "       'FRANCISCO I. MADERO', 'AMATENANGO DEL VALLE', 'IRIMBO',\n",
       "       'SANTA ANA', 'Tulum', 'CHURINTZIO', 'AMOZOC', 'OMITLAN DE JUAREZ',\n",
       "       'TANHUATO', 'COATEPEC', 'OLUTA', 'BRISEÑAS',\n",
       "       'SAN JUAN BAUTISTA ATATLAHUCA', 'ARIO', 'JILOTZINGO',\n",
       "       'SANTO TOMAS', 'AQUILES SERDAN', 'RAFAEL DELGADO', 'ERONGARICUARO',\n",
       "       'EL SALTO', 'TENANGO DE DORIA', 'SAN FRANCISCO HUEHUETLAN',\n",
       "       'MISANTLA', 'TEHUITZINGO', 'ROSARIO', 'BUSTAMANTE', 'TULA',\n",
       "       'AGUA PRIETA', 'ZITLALTEPEC DE TRINIDAD SANCHEZ SANTOS',\n",
       "       'ALMOLOYA DEL RIO', 'CIENEGA DE FLORES', 'COMAPA', 'PALENQUE',\n",
       "       'LA MAGDALENA TLALTELULCO', 'SAN FRANCISCO JALTEPETONGO',\n",
       "       'TLAPA DE COMONFORT', 'TIERRA BLANCA', 'TEPATITLAN DE MORELOS',\n",
       "       'QUIMIXTLAN', 'SAN SIMON DE GUERRERO', 'TEOTITLAN DEL VALLE',\n",
       "       'ASUNCION NOCHIXTLAN', 'CUAPIAXTLA DE MADERO',\n",
       "       'SAN SALVADOR EL VERDE', 'ALPATLAHUAC', 'SAN JOSE ITURBIDE',\n",
       "       'CHICONTEPEC', 'AHUEHUETITLA', 'TIXTLA DE GUERRERO', 'BADIRAGUATO',\n",
       "       'TEXCALTITLAN', 'TEPETITLAN', 'AJACUBA', 'SAN JOSE CHIAPA'],\n",
       "      dtype=object)"
      ]
     },
     "execution_count": 534,
     "metadata": {},
     "output_type": "execute_result"
    }
   ],
   "source": [
    "#revision de alcaldias en la tabla mediante arreglo de valores únicos\n",
    "carp_inv.alcaldia_hechos.unique()"
   ]
  },
  {
   "cell_type": "code",
   "execution_count": 535,
   "metadata": {},
   "outputs": [],
   "source": [
    "#arreglo con alcaldias de la CDMX\n",
    "alc_cdmx = carp_inv.alcaldia_hechos.unique()[:16]"
   ]
  },
  {
   "cell_type": "markdown",
   "metadata": {},
   "source": [
    "Un vistazo al arreglo anterior de alcaldías únicas revela la existencia de valores faltantes representados tanto por `nan` como el valor `SIN DATO`. Habría que ver si ambos formatos para representar missing values simbolizan lo mismo, o si representan casos diferentes. También pueden apreciarse pocas alcaldías con irregularidades, tales como uso de minúsculas o nombres distorsionados producto del intento de usar acentos. En el caso del análisis que debe llevarse a cabo para esta prueba técnica no es vital investigar estas situaciones, pero es una buena práctica identificar y señalar las inconsistencias e irregularidades que van siendo encontradas.\n",
    "\n",
    "A continuación, se crea un nuevo data frame únicamente con los delitos cometidos en alcaldías de la CDMX, y se transforma el año de ocurrencia del delito de `float` a `int`. Como este campo tiene valores faltantes, el valor del año se representará como 0 en dichos casos."
   ]
  },
  {
   "cell_type": "code",
   "execution_count": 708,
   "metadata": {},
   "outputs": [],
   "source": [
    "#filtrado y creacion de tabla de delitos en cdmx\n",
    "del_cdmx = carp_inv[carp_inv.alcaldia_hechos.isin(alc_cdmx)]\n",
    "del_cdmx.reset_index(drop=True,inplace=True)"
   ]
  },
  {
   "cell_type": "code",
   "execution_count": 709,
   "metadata": {},
   "outputs": [
    {
     "data": {
      "text/plain": [
       "array([2016., 2015., 2012., 2014., 2011., 2008., 2006., 2010., 2013.,\n",
       "       2005., 2009.,   nan, 1955., 2004., 2002., 1998., 1997., 1965.,\n",
       "       2007., 1987., 1999., 1956., 2001., 1996., 1986., 1915., 1988.,\n",
       "       2000., 2017., 2003., 1991., 1993., 1977., 1984., 1995., 1994.,\n",
       "       1990., 1992., 1978., 1989., 1972., 2018., 2019., 1974., 1970.,\n",
       "       1980., 1976., 1983., 1985., 1966., 1969., 1981., 1960., 1982.,\n",
       "       1975., 1954., 1973., 1964., 1968., 1963., 1971., 1958., 1942.,\n",
       "       1930., 1979., 1906., 1962., 1957., 2020., 1950., 1952., 2021.,\n",
       "       1967.])"
      ]
     },
     "execution_count": 709,
     "metadata": {},
     "output_type": "execute_result"
    }
   ],
   "source": [
    "#chequeo de valores unicos de años de ocurrencia de delitos\n",
    "del_cdmx.ao_hechos.unique()"
   ]
  },
  {
   "cell_type": "code",
   "execution_count": 710,
   "metadata": {},
   "outputs": [],
   "source": [
    "#transformacion a int\n",
    "del_cdmx.loc[:,'ao_hechos'] = del_cdmx.ao_hechos.fillna(0).astype(int)"
   ]
  },
  {
   "cell_type": "markdown",
   "metadata": {},
   "source": [
    "Comparando las dimensiones de la tabla general de delitos y la de delitos en CDMX, es posible notar que la gran mayoría de los delitos ocurrieron o fueron registrados en la CDMX.\n",
    "\n",
    "Para seguir con el análisis, se crean nuevas variables para representar numéricamente el mes de ocurrencia del delito, y la fecha como tipo `date`. Aquellas observaciones con mes faltante se representan por el valor 0."
   ]
  },
  {
   "cell_type": "code",
   "execution_count": 711,
   "metadata": {},
   "outputs": [],
   "source": [
    "#creacion de variable numerica para el mes de ocurrencia del delito\n",
    "#missing values se representan momentaneamente como el string 'na'\n",
    "del_cdmx.insert(2,'mes_hechos_num',del_cdmx.mes_hechos.fillna('na') ) "
   ]
  },
  {
   "cell_type": "code",
   "execution_count": 712,
   "metadata": {},
   "outputs": [],
   "source": [
    "#diccionario de meses y los numeros equivalentes, 'na' se representa por cero\n",
    "meses = [\"na\",\"Enero\",\"Febrero\",\"Marzo\",\"Abril\",\"Mayo\",\"Junio\",\"Julio\",\"Agosto\",\"Septiembre\",\"Octubre\",\"Noviembre\",\"Diciembre\"]\n",
    "d = dict(zip(meses,list(np.arange(13))))\n",
    "\n",
    "#mapeo de mes a numero\n",
    "del_cdmx.loc[:,'mes_hechos_num'] = del_cdmx.mes_hechos_num.apply(lambda mes: d[mes]).astype(int)"
   ]
  },
  {
   "cell_type": "code",
   "execution_count": 713,
   "metadata": {},
   "outputs": [],
   "source": [
    "#variable con fecha de delito en tipo date\n",
    "del_cdmx.insert(4,'fecha_hechos_dt',pd.to_datetime( del_cdmx.fecha_hechos).dt.date)"
   ]
  },
  {
   "cell_type": "markdown",
   "metadata": {},
   "source": [
    "Una vez insertadas las nuevas variables, ta tabla queda con la siguiente estructura:"
   ]
  },
  {
   "cell_type": "code",
   "execution_count": 714,
   "metadata": {},
   "outputs": [
    {
     "data": {
      "text/html": [
       "<div>\n",
       "<style scoped>\n",
       "    .dataframe tbody tr th:only-of-type {\n",
       "        vertical-align: middle;\n",
       "    }\n",
       "\n",
       "    .dataframe tbody tr th {\n",
       "        vertical-align: top;\n",
       "    }\n",
       "\n",
       "    .dataframe thead th {\n",
       "        text-align: right;\n",
       "    }\n",
       "</style>\n",
       "<table border=\"1\" class=\"dataframe\">\n",
       "  <thead>\n",
       "    <tr style=\"text-align: right;\">\n",
       "      <th></th>\n",
       "      <th>ao_hechos</th>\n",
       "      <th>mes_hechos</th>\n",
       "      <th>mes_hechos_num</th>\n",
       "      <th>fecha_hechos</th>\n",
       "      <th>fecha_hechos_dt</th>\n",
       "      <th>ao_inicio</th>\n",
       "      <th>mes_inicio</th>\n",
       "      <th>fecha_inicio</th>\n",
       "      <th>delito</th>\n",
       "      <th>fiscalia</th>\n",
       "      <th>...</th>\n",
       "      <th>unidad_investigacion</th>\n",
       "      <th>categoria_delito</th>\n",
       "      <th>calle_hechos</th>\n",
       "      <th>calle_hechos2</th>\n",
       "      <th>colonia_hechos</th>\n",
       "      <th>alcaldia_hechos</th>\n",
       "      <th>competencia</th>\n",
       "      <th>longitud</th>\n",
       "      <th>latitud</th>\n",
       "      <th>tempo</th>\n",
       "    </tr>\n",
       "  </thead>\n",
       "  <tbody>\n",
       "    <tr>\n",
       "      <td>0</td>\n",
       "      <td>2016</td>\n",
       "      <td>Enero</td>\n",
       "      <td>1</td>\n",
       "      <td>2016-01-31 22:16:00</td>\n",
       "      <td>2016-01-31</td>\n",
       "      <td>2016</td>\n",
       "      <td>Febrero</td>\n",
       "      <td>2016-02-01 00:25:44</td>\n",
       "      <td>DAÑO EN PROPIEDAD AJENA INTENCIONAL</td>\n",
       "      <td>INVESTIGACIÓN EN BENITO JUÁREZ</td>\n",
       "      <td>...</td>\n",
       "      <td>UI-3CD</td>\n",
       "      <td>DELITO DE BAJO IMPACTO</td>\n",
       "      <td>CALZ. DE TLALPAN</td>\n",
       "      <td>LAGO PTE.</td>\n",
       "      <td>AMÉRICAS UNIDAS</td>\n",
       "      <td>BENITO JUAREZ</td>\n",
       "      <td>NaN</td>\n",
       "      <td>-99.140215</td>\n",
       "      <td>19.380315</td>\n",
       "      <td>NaN</td>\n",
       "    </tr>\n",
       "    <tr>\n",
       "      <td>1</td>\n",
       "      <td>2016</td>\n",
       "      <td>Enero</td>\n",
       "      <td>1</td>\n",
       "      <td>2016-01-31 20:50:00</td>\n",
       "      <td>2016-01-31</td>\n",
       "      <td>2016</td>\n",
       "      <td>Febrero</td>\n",
       "      <td>2016-02-01 00:52:37</td>\n",
       "      <td>ROBO DE VEHICULO DE SERVICIO PARTICULAR CON VI...</td>\n",
       "      <td>INVESTIGACIÓN PARA LA ATENCIÓN DEL DELITO DE R...</td>\n",
       "      <td>...</td>\n",
       "      <td>UI-3CD</td>\n",
       "      <td>ROBO DE VEHÍCULO CON Y SIN VIOLENCIA</td>\n",
       "      <td>SUR 25 A</td>\n",
       "      <td>GRANJEROS</td>\n",
       "      <td>LOS CIPRESES</td>\n",
       "      <td>IZTAPALAPA</td>\n",
       "      <td>NaN</td>\n",
       "      <td>-99.108403</td>\n",
       "      <td>19.352859</td>\n",
       "      <td>NaN</td>\n",
       "    </tr>\n",
       "    <tr>\n",
       "      <td>2</td>\n",
       "      <td>2016</td>\n",
       "      <td>Febrero</td>\n",
       "      <td>2</td>\n",
       "      <td>2016-02-01 00:30:00</td>\n",
       "      <td>2016-02-01</td>\n",
       "      <td>2016</td>\n",
       "      <td>Febrero</td>\n",
       "      <td>2016-02-01 01:33:26</td>\n",
       "      <td>NARCOMENUDEO POSESION SIMPLE</td>\n",
       "      <td>INVESTIGACIÓN PARA LA ATENCIÓN DE NIÑOS, NIÑAS...</td>\n",
       "      <td>...</td>\n",
       "      <td>UI-3CD</td>\n",
       "      <td>DELITO DE BAJO IMPACTO</td>\n",
       "      <td>BATALLONES ROJOS</td>\n",
       "      <td>NaN</td>\n",
       "      <td>UNIDAD VICENTE GUERRERO</td>\n",
       "      <td>IZTAPALAPA</td>\n",
       "      <td>NaN</td>\n",
       "      <td>-99.061321</td>\n",
       "      <td>19.356451</td>\n",
       "      <td>NaN</td>\n",
       "    </tr>\n",
       "    <tr>\n",
       "      <td>3</td>\n",
       "      <td>2016</td>\n",
       "      <td>Enero</td>\n",
       "      <td>1</td>\n",
       "      <td>2016-01-31 22:00:00</td>\n",
       "      <td>2016-01-31</td>\n",
       "      <td>2016</td>\n",
       "      <td>Febrero</td>\n",
       "      <td>2016-02-01 02:09:11</td>\n",
       "      <td>ROBO A TRANSEUNTE EN VIA PUBLICA CON VIOLENCIA</td>\n",
       "      <td>INVESTIGACIÓN EN IZTAPALAPA</td>\n",
       "      <td>...</td>\n",
       "      <td>UI-3CD</td>\n",
       "      <td>ROBO A TRANSEUNTE EN VÍA PÚBLICA CON Y SIN VIO...</td>\n",
       "      <td>GERANIO</td>\n",
       "      <td>GAVILLEROS</td>\n",
       "      <td>EMILIANO ZAPATA</td>\n",
       "      <td>IZTAPALAPA</td>\n",
       "      <td>NaN</td>\n",
       "      <td>-98.976379</td>\n",
       "      <td>19.331633</td>\n",
       "      <td>NaN</td>\n",
       "    </tr>\n",
       "    <tr>\n",
       "      <td>4</td>\n",
       "      <td>2015</td>\n",
       "      <td>Diciembre</td>\n",
       "      <td>12</td>\n",
       "      <td>2015-12-25 12:00:00</td>\n",
       "      <td>2015-12-25</td>\n",
       "      <td>2016</td>\n",
       "      <td>Febrero</td>\n",
       "      <td>2016-02-01 02:16:49</td>\n",
       "      <td>DENUNCIA DE HECHOS</td>\n",
       "      <td>INVESTIGACIÓN EN BENITO JUÁREZ</td>\n",
       "      <td>...</td>\n",
       "      <td>UI-3SD</td>\n",
       "      <td>HECHO NO DELICTIVO</td>\n",
       "      <td>SAN FRANCISCO</td>\n",
       "      <td>AVENIDA COLONIA DEL VALLE</td>\n",
       "      <td>DEL VALLE CENTRO</td>\n",
       "      <td>BENITO JUAREZ</td>\n",
       "      <td>NaN</td>\n",
       "      <td>-99.172189</td>\n",
       "      <td>19.387114</td>\n",
       "      <td>NaN</td>\n",
       "    </tr>\n",
       "    <tr>\n",
       "      <td>...</td>\n",
       "      <td>...</td>\n",
       "      <td>...</td>\n",
       "      <td>...</td>\n",
       "      <td>...</td>\n",
       "      <td>...</td>\n",
       "      <td>...</td>\n",
       "      <td>...</td>\n",
       "      <td>...</td>\n",
       "      <td>...</td>\n",
       "      <td>...</td>\n",
       "      <td>...</td>\n",
       "      <td>...</td>\n",
       "      <td>...</td>\n",
       "      <td>...</td>\n",
       "      <td>...</td>\n",
       "      <td>...</td>\n",
       "      <td>...</td>\n",
       "      <td>...</td>\n",
       "      <td>...</td>\n",
       "      <td>...</td>\n",
       "      <td>...</td>\n",
       "    </tr>\n",
       "    <tr>\n",
       "      <td>1235880</td>\n",
       "      <td>2021</td>\n",
       "      <td>Junio</td>\n",
       "      <td>6</td>\n",
       "      <td>2021-06-29 17:00:00</td>\n",
       "      <td>2021-06-29</td>\n",
       "      <td>2021</td>\n",
       "      <td>Junio</td>\n",
       "      <td>2021-06-30 23:32:31</td>\n",
       "      <td>LESIONES CULPOSAS POR TRANSITO VEHICULAR EN CO...</td>\n",
       "      <td>FISCALÍA DE INVESTIGACIÓN TERRITORIAL EN MILPA...</td>\n",
       "      <td>...</td>\n",
       "      <td>UI-3SD</td>\n",
       "      <td>DELITO DE BAJO IMPACTO</td>\n",
       "      <td>OAXTEPEC</td>\n",
       "      <td>NaN</td>\n",
       "      <td>SAN MARCOS (SANTA ANA TLACOTENCO)</td>\n",
       "      <td>MILPA ALTA</td>\n",
       "      <td>FUERO COMUN</td>\n",
       "      <td>-98.992460</td>\n",
       "      <td>19.168371</td>\n",
       "      <td>NaN</td>\n",
       "    </tr>\n",
       "    <tr>\n",
       "      <td>1235881</td>\n",
       "      <td>2021</td>\n",
       "      <td>Junio</td>\n",
       "      <td>6</td>\n",
       "      <td>2021-06-04 19:00:00</td>\n",
       "      <td>2021-06-04</td>\n",
       "      <td>2021</td>\n",
       "      <td>Junio</td>\n",
       "      <td>2021-06-30 23:36:45</td>\n",
       "      <td>ROBO DE ACCESORIOS DE AUTO</td>\n",
       "      <td>FISCALÍA DE INVESTIGACIÓN TERRITORIAL EN CUAUH...</td>\n",
       "      <td>...</td>\n",
       "      <td>UI-3SD</td>\n",
       "      <td>DELITO DE BAJO IMPACTO</td>\n",
       "      <td>AVENIDA MEXICO</td>\n",
       "      <td>TEOTIHUACAN</td>\n",
       "      <td>HIPÓDROMO</td>\n",
       "      <td>CUAUHTEMOC</td>\n",
       "      <td>FUERO COMUN</td>\n",
       "      <td>-99.168311</td>\n",
       "      <td>19.412001</td>\n",
       "      <td>NaN</td>\n",
       "    </tr>\n",
       "    <tr>\n",
       "      <td>1235882</td>\n",
       "      <td>2021</td>\n",
       "      <td>Junio</td>\n",
       "      <td>6</td>\n",
       "      <td>2021-06-30 19:40:00</td>\n",
       "      <td>2021-06-30</td>\n",
       "      <td>2021</td>\n",
       "      <td>Junio</td>\n",
       "      <td>2021-06-30 23:37:12</td>\n",
       "      <td>AMENAZAS</td>\n",
       "      <td>FISCALÍA DE INVESTIGACIÓN TERRITORIAL EN IZTAC...</td>\n",
       "      <td>...</td>\n",
       "      <td>UI-3SD</td>\n",
       "      <td>DELITO DE BAJO IMPACTO</td>\n",
       "      <td>CUATRO</td>\n",
       "      <td>NaN</td>\n",
       "      <td>AGRÍCOLA PANTITLAN</td>\n",
       "      <td>IZTACALCO</td>\n",
       "      <td>FUERO COMUN</td>\n",
       "      <td>-99.061716</td>\n",
       "      <td>19.419028</td>\n",
       "      <td>NaN</td>\n",
       "    </tr>\n",
       "    <tr>\n",
       "      <td>1235883</td>\n",
       "      <td>2021</td>\n",
       "      <td>Mayo</td>\n",
       "      <td>5</td>\n",
       "      <td>2021-05-16 21:08:00</td>\n",
       "      <td>2021-05-16</td>\n",
       "      <td>2021</td>\n",
       "      <td>Junio</td>\n",
       "      <td>2021-06-30 23:45:57</td>\n",
       "      <td>DAÑO EN PROPIEDAD AJENA INTENCIONAL</td>\n",
       "      <td>FISCALÍA DE INVESTIGACIÓN TERRITORIAL EN CUAUH...</td>\n",
       "      <td>...</td>\n",
       "      <td>UI-3SD</td>\n",
       "      <td>DELITO DE BAJO IMPACTO</td>\n",
       "      <td>ALVARO OBREGON</td>\n",
       "      <td>NaN</td>\n",
       "      <td>ROMA NORTE</td>\n",
       "      <td>CUAUHTEMOC</td>\n",
       "      <td>FUERO COMUN</td>\n",
       "      <td>-99.158994</td>\n",
       "      <td>19.418615</td>\n",
       "      <td>NaN</td>\n",
       "    </tr>\n",
       "    <tr>\n",
       "      <td>1235884</td>\n",
       "      <td>2021</td>\n",
       "      <td>Junio</td>\n",
       "      <td>6</td>\n",
       "      <td>2021-06-29 17:00:00</td>\n",
       "      <td>2021-06-29</td>\n",
       "      <td>2021</td>\n",
       "      <td>Junio</td>\n",
       "      <td>2021-06-30 23:52:34</td>\n",
       "      <td>LESIONES INTENCIONALES POR ARMA BLANCA</td>\n",
       "      <td>FISCALÍA DE INVESTIGACIÓN TERRITORIAL EN IZTAP...</td>\n",
       "      <td>...</td>\n",
       "      <td>UI-3CD</td>\n",
       "      <td>DELITO DE BAJO IMPACTO</td>\n",
       "      <td>REFORMA # 100</td>\n",
       "      <td>NaN</td>\n",
       "      <td>LOMAS DE SAN LORENZO</td>\n",
       "      <td>IZTAPALAPA</td>\n",
       "      <td>FUERO COMUN</td>\n",
       "      <td>-99.069557</td>\n",
       "      <td>19.321406</td>\n",
       "      <td>NaN</td>\n",
       "    </tr>\n",
       "  </tbody>\n",
       "</table>\n",
       "<p>1235885 rows × 21 columns</p>\n",
       "</div>"
      ],
      "text/plain": [
       "         ao_hechos mes_hechos  mes_hechos_num         fecha_hechos  \\\n",
       "0             2016      Enero               1  2016-01-31 22:16:00   \n",
       "1             2016      Enero               1  2016-01-31 20:50:00   \n",
       "2             2016    Febrero               2  2016-02-01 00:30:00   \n",
       "3             2016      Enero               1  2016-01-31 22:00:00   \n",
       "4             2015  Diciembre              12  2015-12-25 12:00:00   \n",
       "...            ...        ...             ...                  ...   \n",
       "1235880       2021      Junio               6  2021-06-29 17:00:00   \n",
       "1235881       2021      Junio               6  2021-06-04 19:00:00   \n",
       "1235882       2021      Junio               6  2021-06-30 19:40:00   \n",
       "1235883       2021       Mayo               5  2021-05-16 21:08:00   \n",
       "1235884       2021      Junio               6  2021-06-29 17:00:00   \n",
       "\n",
       "        fecha_hechos_dt  ao_inicio mes_inicio         fecha_inicio  \\\n",
       "0            2016-01-31       2016    Febrero  2016-02-01 00:25:44   \n",
       "1            2016-01-31       2016    Febrero  2016-02-01 00:52:37   \n",
       "2            2016-02-01       2016    Febrero  2016-02-01 01:33:26   \n",
       "3            2016-01-31       2016    Febrero  2016-02-01 02:09:11   \n",
       "4            2015-12-25       2016    Febrero  2016-02-01 02:16:49   \n",
       "...                 ...        ...        ...                  ...   \n",
       "1235880      2021-06-29       2021      Junio  2021-06-30 23:32:31   \n",
       "1235881      2021-06-04       2021      Junio  2021-06-30 23:36:45   \n",
       "1235882      2021-06-30       2021      Junio  2021-06-30 23:37:12   \n",
       "1235883      2021-05-16       2021      Junio  2021-06-30 23:45:57   \n",
       "1235884      2021-06-29       2021      Junio  2021-06-30 23:52:34   \n",
       "\n",
       "                                                    delito  \\\n",
       "0                      DAÑO EN PROPIEDAD AJENA INTENCIONAL   \n",
       "1        ROBO DE VEHICULO DE SERVICIO PARTICULAR CON VI...   \n",
       "2                             NARCOMENUDEO POSESION SIMPLE   \n",
       "3           ROBO A TRANSEUNTE EN VIA PUBLICA CON VIOLENCIA   \n",
       "4                                       DENUNCIA DE HECHOS   \n",
       "...                                                    ...   \n",
       "1235880  LESIONES CULPOSAS POR TRANSITO VEHICULAR EN CO...   \n",
       "1235881                         ROBO DE ACCESORIOS DE AUTO   \n",
       "1235882                                           AMENAZAS   \n",
       "1235883                DAÑO EN PROPIEDAD AJENA INTENCIONAL   \n",
       "1235884             LESIONES INTENCIONALES POR ARMA BLANCA   \n",
       "\n",
       "                                                  fiscalia  ...  \\\n",
       "0                           INVESTIGACIÓN EN BENITO JUÁREZ  ...   \n",
       "1        INVESTIGACIÓN PARA LA ATENCIÓN DEL DELITO DE R...  ...   \n",
       "2        INVESTIGACIÓN PARA LA ATENCIÓN DE NIÑOS, NIÑAS...  ...   \n",
       "3                              INVESTIGACIÓN EN IZTAPALAPA  ...   \n",
       "4                           INVESTIGACIÓN EN BENITO JUÁREZ  ...   \n",
       "...                                                    ...  ...   \n",
       "1235880  FISCALÍA DE INVESTIGACIÓN TERRITORIAL EN MILPA...  ...   \n",
       "1235881  FISCALÍA DE INVESTIGACIÓN TERRITORIAL EN CUAUH...  ...   \n",
       "1235882  FISCALÍA DE INVESTIGACIÓN TERRITORIAL EN IZTAC...  ...   \n",
       "1235883  FISCALÍA DE INVESTIGACIÓN TERRITORIAL EN CUAUH...  ...   \n",
       "1235884  FISCALÍA DE INVESTIGACIÓN TERRITORIAL EN IZTAP...  ...   \n",
       "\n",
       "        unidad_investigacion  \\\n",
       "0                     UI-3CD   \n",
       "1                     UI-3CD   \n",
       "2                     UI-3CD   \n",
       "3                     UI-3CD   \n",
       "4                     UI-3SD   \n",
       "...                      ...   \n",
       "1235880               UI-3SD   \n",
       "1235881               UI-3SD   \n",
       "1235882               UI-3SD   \n",
       "1235883               UI-3SD   \n",
       "1235884               UI-3CD   \n",
       "\n",
       "                                          categoria_delito      calle_hechos  \\\n",
       "0                                   DELITO DE BAJO IMPACTO  CALZ. DE TLALPAN   \n",
       "1                     ROBO DE VEHÍCULO CON Y SIN VIOLENCIA          SUR 25 A   \n",
       "2                                   DELITO DE BAJO IMPACTO  BATALLONES ROJOS   \n",
       "3        ROBO A TRANSEUNTE EN VÍA PÚBLICA CON Y SIN VIO...           GERANIO   \n",
       "4                                       HECHO NO DELICTIVO     SAN FRANCISCO   \n",
       "...                                                    ...               ...   \n",
       "1235880                             DELITO DE BAJO IMPACTO          OAXTEPEC   \n",
       "1235881                             DELITO DE BAJO IMPACTO    AVENIDA MEXICO   \n",
       "1235882                             DELITO DE BAJO IMPACTO            CUATRO   \n",
       "1235883                             DELITO DE BAJO IMPACTO    ALVARO OBREGON   \n",
       "1235884                             DELITO DE BAJO IMPACTO     REFORMA # 100   \n",
       "\n",
       "                     calle_hechos2                     colonia_hechos  \\\n",
       "0                        LAGO PTE.                    AMÉRICAS UNIDAS   \n",
       "1                        GRANJEROS                       LOS CIPRESES   \n",
       "2                              NaN            UNIDAD VICENTE GUERRERO   \n",
       "3                       GAVILLEROS                    EMILIANO ZAPATA   \n",
       "4        AVENIDA COLONIA DEL VALLE                   DEL VALLE CENTRO   \n",
       "...                            ...                                ...   \n",
       "1235880                        NaN  SAN MARCOS (SANTA ANA TLACOTENCO)   \n",
       "1235881                TEOTIHUACAN                          HIPÓDROMO   \n",
       "1235882                        NaN                 AGRÍCOLA PANTITLAN   \n",
       "1235883                        NaN                         ROMA NORTE   \n",
       "1235884                        NaN               LOMAS DE SAN LORENZO   \n",
       "\n",
       "        alcaldia_hechos  competencia   longitud    latitud  tempo  \n",
       "0         BENITO JUAREZ          NaN -99.140215  19.380315    NaN  \n",
       "1            IZTAPALAPA          NaN -99.108403  19.352859    NaN  \n",
       "2            IZTAPALAPA          NaN -99.061321  19.356451    NaN  \n",
       "3            IZTAPALAPA          NaN -98.976379  19.331633    NaN  \n",
       "4         BENITO JUAREZ          NaN -99.172189  19.387114    NaN  \n",
       "...                 ...          ...        ...        ...    ...  \n",
       "1235880      MILPA ALTA  FUERO COMUN -98.992460  19.168371    NaN  \n",
       "1235881      CUAUHTEMOC  FUERO COMUN -99.168311  19.412001    NaN  \n",
       "1235882       IZTACALCO  FUERO COMUN -99.061716  19.419028    NaN  \n",
       "1235883      CUAUHTEMOC  FUERO COMUN -99.158994  19.418615    NaN  \n",
       "1235884      IZTAPALAPA  FUERO COMUN -99.069557  19.321406    NaN  \n",
       "\n",
       "[1235885 rows x 21 columns]"
      ]
     },
     "execution_count": 714,
     "metadata": {},
     "output_type": "execute_result"
    }
   ],
   "source": [
    "del_cdmx"
   ]
  },
  {
   "cell_type": "code",
   "execution_count": 715,
   "metadata": {},
   "outputs": [
    {
     "name": "stdout",
     "output_type": "stream",
     "text": [
      "La tabla contiene 1,235,885 observaciones y 21 columnas.\n"
     ]
    }
   ],
   "source": [
    "print(f\"La tabla contiene {del_cdmx.shape[0]:,} observaciones y {del_cdmx.shape[1]:,} columnas.\")"
   ]
  },
  {
   "cell_type": "markdown",
   "metadata": {},
   "source": [
    "Una vez lista la tabla para los delitos en la CDMX, procedemos a ver el número de delitos por año, notando que existen 421 valores con cero, utilizado para representar delitos cometidos en años con valor faltante. Para fines de los ejercicios contenidos en esta prueba y considerando el número tan grande de observaciones en el data set, se decide omitir dichas observaciones por completo."
   ]
  },
  {
   "cell_type": "code",
   "execution_count": 716,
   "metadata": {},
   "outputs": [
    {
     "data": {
      "text/html": [
       "<div>\n",
       "<style scoped>\n",
       "    .dataframe tbody tr th:only-of-type {\n",
       "        vertical-align: middle;\n",
       "    }\n",
       "\n",
       "    .dataframe tbody tr th {\n",
       "        vertical-align: top;\n",
       "    }\n",
       "\n",
       "    .dataframe thead th {\n",
       "        text-align: right;\n",
       "    }\n",
       "</style>\n",
       "<table border=\"1\" class=\"dataframe\">\n",
       "  <thead>\n",
       "    <tr style=\"text-align: right;\">\n",
       "      <th></th>\n",
       "      <th>0</th>\n",
       "      <th>1906</th>\n",
       "      <th>1915</th>\n",
       "      <th>1930</th>\n",
       "      <th>1942</th>\n",
       "      <th>1950</th>\n",
       "      <th>1952</th>\n",
       "      <th>1954</th>\n",
       "      <th>1955</th>\n",
       "      <th>1956</th>\n",
       "      <th>...</th>\n",
       "      <th>2012</th>\n",
       "      <th>2013</th>\n",
       "      <th>2014</th>\n",
       "      <th>2015</th>\n",
       "      <th>2016</th>\n",
       "      <th>2017</th>\n",
       "      <th>2018</th>\n",
       "      <th>2019</th>\n",
       "      <th>2020</th>\n",
       "      <th>2021</th>\n",
       "    </tr>\n",
       "  </thead>\n",
       "  <tbody>\n",
       "    <tr>\n",
       "      <td>delitos</td>\n",
       "      <td>421</td>\n",
       "      <td>1</td>\n",
       "      <td>2</td>\n",
       "      <td>1</td>\n",
       "      <td>1</td>\n",
       "      <td>2</td>\n",
       "      <td>1</td>\n",
       "      <td>1</td>\n",
       "      <td>3</td>\n",
       "      <td>2</td>\n",
       "      <td>...</td>\n",
       "      <td>1477</td>\n",
       "      <td>2087</td>\n",
       "      <td>4139</td>\n",
       "      <td>15582</td>\n",
       "      <td>192999</td>\n",
       "      <td>224650</td>\n",
       "      <td>251358</td>\n",
       "      <td>240970</td>\n",
       "      <td>198077</td>\n",
       "      <td>99443</td>\n",
       "    </tr>\n",
       "  </tbody>\n",
       "</table>\n",
       "<p>1 rows × 73 columns</p>\n",
       "</div>"
      ],
      "text/plain": [
       "         0     1906  1915  1930  1942  1950  1952  1954  1955  1956  ...  \\\n",
       "delitos   421     1     2     1     1     2     1     1     3     2  ...   \n",
       "\n",
       "         2012  2013  2014   2015    2016    2017    2018    2019    2020  \\\n",
       "delitos  1477  2087  4139  15582  192999  224650  251358  240970  198077   \n",
       "\n",
       "          2021  \n",
       "delitos  99443  \n",
       "\n",
       "[1 rows x 73 columns]"
      ]
     },
     "execution_count": 716,
     "metadata": {},
     "output_type": "execute_result"
    }
   ],
   "source": [
    "#conteo de delitos por año\n",
    "pd.DataFrame(del_cdmx['ao_hechos'].value_counts().sort_index()).rename(columns={'ao_hechos':'delitos'}).transpose()"
   ]
  },
  {
   "cell_type": "code",
   "execution_count": 717,
   "metadata": {},
   "outputs": [],
   "source": [
    "#eliminar observaciones correspondientes a año de hechos faltante\n",
    "del_cdmx = del_cdmx[del_cdmx.ao_hechos > 0]"
   ]
  },
  {
   "cell_type": "markdown",
   "metadata": {},
   "source": [
    "A partir del conteo anterior es posible observar que existen delitos cometidos en años lejanos en el pasado. Sin embargo, son muy pocos. La gran mayoría parecen estar concentrados en los últimos seis o siete años, como lo revela el resumen a continuación y el percentil 3 de la distribución de años, cuyo valor es 2016."
   ]
  },
  {
   "cell_type": "code",
   "execution_count": 1057,
   "metadata": {},
   "outputs": [
    {
     "data": {
      "text/plain": [
       "count    1207497\n",
       "mean        2018\n",
       "std            2\n",
       "min         2016\n",
       "25%         2017\n",
       "50%         2018\n",
       "75%         2019\n",
       "max         2021\n",
       "Name: ao_hechos, dtype: int32"
      ]
     },
     "execution_count": 1057,
     "metadata": {},
     "output_type": "execute_result"
    }
   ],
   "source": [
    "#resumen de la distribución de años en que se cometieron delitos\n",
    "#media y la desviación estándar redondeados al entero más cercano\n",
    "del_cdmx.ao_hechos.describe().round().astype(int)"
   ]
  },
  {
   "cell_type": "code",
   "execution_count": 1061,
   "metadata": {},
   "outputs": [
    {
     "data": {
      "text/plain": [
       "2016"
      ]
     },
     "execution_count": 1061,
     "metadata": {},
     "output_type": "execute_result"
    }
   ],
   "source": [
    "#percentil 3 %\n",
    "int(np.quantile(a=del_cdmx.ao_hechos,q=0.03))"
   ]
  },
  {
   "cell_type": "markdown",
   "metadata": {},
   "source": [
    "El cambio tan dramático que se observa en el número de delitos al pasar del año 2015 al 2016 seguramente no se debe a que haya incrementado repentinamente y en un orden de magnitud la ocurrencia de delitos, sino al registro de ellos. Debido a esto, se considerarán para el resto del análisis únicamente delitos ocurridos del año 2016 hasta la fecha actual."
   ]
  },
  {
   "cell_type": "code",
   "execution_count": 720,
   "metadata": {},
   "outputs": [],
   "source": [
    "#filtrado de delitos cuyo año de ocurrencia es menor a 2016\n",
    "del_cdmx = del_cdmx[del_cdmx.ao_hechos>=2016]\n",
    "\n",
    "#indice se reinicia\n",
    "del_cdmx.reset_index(drop=True,inplace=True)"
   ]
  },
  {
   "cell_type": "code",
   "execution_count": 721,
   "metadata": {},
   "outputs": [
    {
     "name": "stdout",
     "output_type": "stream",
     "text": [
      "La tabla contiene 1,207,497 observaciones y 21 columnas.\n"
     ]
    }
   ],
   "source": [
    "print(f\"La tabla contiene {del_cdmx.shape[0]:,} observaciones y {del_cdmx.shape[1]:,} columnas.\")"
   ]
  },
  {
   "cell_type": "markdown",
   "metadata": {},
   "source": [
    "Una vez hecho esto, se procede a visualizar el número de delitos diarios ocurridos en la CDMX desde el comienzo del año 2016, en forma de serie de tiempo. La tabla contiene registros de delitos ocurridos hasta junio 30 de 2021."
   ]
  },
  {
   "cell_type": "code",
   "execution_count": 727,
   "metadata": {},
   "outputs": [
    {
     "name": "stdout",
     "output_type": "stream",
     "text": [
      "La tabla contiene resgistros desde 2016-01-01 hasta 2021-06-30.\n"
     ]
    }
   ],
   "source": [
    "#rango de fechas resultante\n",
    "print(f\"La tabla contiene resgistros desde {min(del_cdmx.fecha_hechos_dt)} hasta {max(del_cdmx.fecha_hechos_dt)}.\")"
   ]
  },
  {
   "cell_type": "code",
   "execution_count": 728,
   "metadata": {},
   "outputs": [],
   "source": [
    "#para evitar tener que cambiar el nombre de las columnas en los agregados, se añade una columna dummy\n",
    "#esta tiene el nombre 'delitos' y su proposito es que los agregados adquieran este nombre en automatico\n",
    "del_cdmx.insert(0,'delitos', 1 )"
   ]
  },
  {
   "cell_type": "code",
   "execution_count": 910,
   "metadata": {},
   "outputs": [
    {
     "data": {
      "image/png": "[encoded data removed]",
      "text/plain": [
       "<Figure size 432x288 with 1 Axes>"
      ]
     },
     "metadata": {
      "needs_background": "light"
     },
     "output_type": "display_data"
    }
   ],
   "source": [
    "#conteo de delitos por dia desde 2016 y grafico de serie de tiempo\n",
    "del_cdmx[['fecha_hechos_dt','delitos']].groupby('fecha_hechos_dt').count().plot()\n",
    "plt.xlabel(\"tiempo\")\n",
    "plt.title(\"Numero de delitos diarios en la CDMX\")\n",
    "plt.tight_layout()\n",
    "plt.show()"
   ]
  },
  {
   "cell_type": "markdown",
   "metadata": {},
   "source": [
    "La gráfica anterior muestra un cambio radical en el comportamiento de la serie de tiempo (punto de cambio) a comienzos del año 2020. Esto coincide con el tiempo de llegada de la pandemia de Covid-19 al país.\n",
    "\n",
    "Al realizar un zoom considerando fechas desde 2020 y agregando un promedio movil de 10 días para suavizar un poco el ruido, se puede notar una oscilación con bajadas en tres momentos en el tiempo. La primera coincide con la llegada de la pandemia, la segunda con la segunda ola ocurrida en enero 2021, y la tercera con la tercera ola en la cual nos encontramos actualmente. La gráfica muestra de manera clara que actualmente existe una tendencia a la baja en el número de delitos totales en la CDMX. La linea vertical roja marca el primero de mayo de 2021, y se observa que posterior a esta fecha la frecuencia de delitos decrece."
   ]
  },
  {
   "cell_type": "code",
   "execution_count": 975,
   "metadata": {},
   "outputs": [
    {
     "data": {
      "image/png": "[encoded data removed]",
      "text/plain": [
       "<Figure size 432x288 with 1 Axes>"
      ]
     },
     "metadata": {
      "needs_background": "light"
     },
     "output_type": "display_data"
    }
   ],
   "source": [
    "#conteo de delitos por dia desde 2020 y grafico de serie de tiempo\n",
    "trend = del_cdmx[['fecha_hechos_dt','delitos']][del_cdmx['fecha_hechos_dt']>=pd.Timestamp(2020,1,1)].groupby('fecha_hechos_dt').count()\n",
    "\n",
    "#generar promedio movil con una ventana de tiempo de 10 dias y graficar\n",
    "trend['promedio_movil'] = trend.rolling(window=10).mean()\n",
    "trend.plot()\n",
    "plt.xlabel(\"tiempo\")\n",
    "plt.title(\"Numero de delitos diarios en la CDMX\")\n",
    "plt.axvline(x=pd.Timestamp(2021,5,1),ymin = 0, ymax = 1, color='red')\n",
    "plt.tight_layout()\n",
    "plt.show()"
   ]
  },
  {
   "cell_type": "markdown",
   "metadata": {},
   "source": [
    "Con el objetivo de identificar tendencias actuales para distintos tipos de delitos, se determina considerar datos correspondientes a los últimos dos meses.\n",
    "\n",
    "Antes de determinar qué tipos de delitos están a la alta y baja, se inspecciona el número total de delitos por tipo, ocurridos desde Mayo 1 hasta Junio 30 de 2021, y también el promedio de delitos diarios por tipo. Como se tienen 242 tipos de delitos cometidos desde Mayo 1, se muestran solo los 20 más frecuentes y los 20 menos frecuentes."
   ]
  },
  {
   "cell_type": "code",
   "execution_count": 1012,
   "metadata": {},
   "outputs": [
    {
     "data": {
      "text/html": [
       "<div>\n",
       "<style scoped>\n",
       "    .dataframe tbody tr th:only-of-type {\n",
       "        vertical-align: middle;\n",
       "    }\n",
       "\n",
       "    .dataframe tbody tr th {\n",
       "        vertical-align: top;\n",
       "    }\n",
       "\n",
       "    .dataframe thead th {\n",
       "        text-align: right;\n",
       "    }\n",
       "</style>\n",
       "<table border=\"1\" class=\"dataframe\">\n",
       "  <thead>\n",
       "    <tr style=\"text-align: right;\">\n",
       "      <th></th>\n",
       "      <th>delitos</th>\n",
       "    </tr>\n",
       "    <tr>\n",
       "      <th>delito</th>\n",
       "      <th></th>\n",
       "    </tr>\n",
       "  </thead>\n",
       "  <tbody>\n",
       "    <tr>\n",
       "      <td>VIOLENCIA FAMILIAR</td>\n",
       "      <td>5306</td>\n",
       "    </tr>\n",
       "    <tr>\n",
       "      <td>AMENAZAS</td>\n",
       "      <td>2606</td>\n",
       "    </tr>\n",
       "    <tr>\n",
       "      <td>FRAUDE</td>\n",
       "      <td>1695</td>\n",
       "    </tr>\n",
       "    <tr>\n",
       "      <td>ROBO DE OBJETOS</td>\n",
       "      <td>1528</td>\n",
       "    </tr>\n",
       "    <tr>\n",
       "      <td>ROBO A TRANSEUNTE EN VIA PUBLICA CON VIOLENCIA</td>\n",
       "      <td>1323</td>\n",
       "    </tr>\n",
       "    <tr>\n",
       "      <td>ROBO DE ACCESORIOS DE AUTO</td>\n",
       "      <td>1316</td>\n",
       "    </tr>\n",
       "    <tr>\n",
       "      <td>ROBO DE OBJETOS DEL INTERIOR DE UN VEHICULO</td>\n",
       "      <td>945</td>\n",
       "    </tr>\n",
       "    <tr>\n",
       "      <td>ROBO A NEGOCIO SIN VIOLENCIA POR FARDEROS (TIENDAS DE AUTOSERVICIO)</td>\n",
       "      <td>926</td>\n",
       "    </tr>\n",
       "    <tr>\n",
       "      <td>NARCOMENUDEO POSESION SIMPLE</td>\n",
       "      <td>636</td>\n",
       "    </tr>\n",
       "    <tr>\n",
       "      <td>ROBO DE VEHICULO DE SERVICIO PARTICULAR SIN VIOLENCIA</td>\n",
       "      <td>614</td>\n",
       "    </tr>\n",
       "    <tr>\n",
       "      <td>ROBO A NEGOCIO SIN VIOLENCIA</td>\n",
       "      <td>556</td>\n",
       "    </tr>\n",
       "    <tr>\n",
       "      <td>DAÑO EN PROPIEDAD AJENA CULPOSA POR TRÁNSITO VEHICULAR A AUTOMOVIL</td>\n",
       "      <td>511</td>\n",
       "    </tr>\n",
       "    <tr>\n",
       "      <td>ABUSO SEXUAL</td>\n",
       "      <td>493</td>\n",
       "    </tr>\n",
       "    <tr>\n",
       "      <td>DESPOJO</td>\n",
       "      <td>492</td>\n",
       "    </tr>\n",
       "    <tr>\n",
       "      <td>ROBO A CASA HABITACION SIN VIOLENCIA</td>\n",
       "      <td>460</td>\n",
       "    </tr>\n",
       "    <tr>\n",
       "      <td>ABUSO DE CONFIANZA</td>\n",
       "      <td>406</td>\n",
       "    </tr>\n",
       "    <tr>\n",
       "      <td>LESIONES CULPOSAS POR TRANSITO VEHICULAR EN COLISION</td>\n",
       "      <td>405</td>\n",
       "    </tr>\n",
       "    <tr>\n",
       "      <td>LESIONES INTENCIONALES POR GOLPES</td>\n",
       "      <td>383</td>\n",
       "    </tr>\n",
       "    <tr>\n",
       "      <td>ROBO A NEGOCIO CON VIOLENCIA</td>\n",
       "      <td>381</td>\n",
       "    </tr>\n",
       "    <tr>\n",
       "      <td>USURPACIÓN DE IDENTIDAD</td>\n",
       "      <td>361</td>\n",
       "    </tr>\n",
       "  </tbody>\n",
       "</table>\n",
       "</div>"
      ],
      "text/plain": [
       "                                                    delitos\n",
       "delito                                                     \n",
       "VIOLENCIA FAMILIAR                                     5306\n",
       "AMENAZAS                                               2606\n",
       "FRAUDE                                                 1695\n",
       "ROBO DE OBJETOS                                        1528\n",
       "ROBO A TRANSEUNTE EN VIA PUBLICA CON VIOLENCIA         1323\n",
       "ROBO DE ACCESORIOS DE AUTO                             1316\n",
       "ROBO DE OBJETOS DEL INTERIOR DE UN VEHICULO             945\n",
       "ROBO A NEGOCIO SIN VIOLENCIA POR FARDEROS (TIEN...      926\n",
       "NARCOMENUDEO POSESION SIMPLE                            636\n",
       "ROBO DE VEHICULO DE SERVICIO PARTICULAR SIN VIO...      614\n",
       "ROBO A NEGOCIO SIN VIOLENCIA                            556\n",
       "DAÑO EN PROPIEDAD AJENA CULPOSA POR TRÁNSITO VE...      511\n",
       "ABUSO SEXUAL                                            493\n",
       "DESPOJO                                                 492\n",
       "ROBO A CASA HABITACION SIN VIOLENCIA                    460\n",
       "ABUSO DE CONFIANZA                                      406\n",
       "LESIONES CULPOSAS POR TRANSITO VEHICULAR EN COL...      405\n",
       "LESIONES INTENCIONALES POR GOLPES                       383\n",
       "ROBO A NEGOCIO CON VIOLENCIA                            381\n",
       "USURPACIÓN DE IDENTIDAD                                 361"
      ]
     },
     "execution_count": 1012,
     "metadata": {},
     "output_type": "execute_result"
    }
   ],
   "source": [
    "#filtrado de delitos desde Mayo 2021 y conteo por tipo de delito\n",
    "del_cdmx[['delito','delitos']][del_cdmx['fecha_hechos_dt']>=pd.Timestamp(2021,5,1)].groupby('delito').count().sort_values('delitos',ascending = False).head(20)"
   ]
  },
  {
   "cell_type": "code",
   "execution_count": 1013,
   "metadata": {},
   "outputs": [
    {
     "data": {
      "text/html": [
       "<div>\n",
       "<style scoped>\n",
       "    .dataframe tbody tr th:only-of-type {\n",
       "        vertical-align: middle;\n",
       "    }\n",
       "\n",
       "    .dataframe tbody tr th {\n",
       "        vertical-align: top;\n",
       "    }\n",
       "\n",
       "    .dataframe thead th {\n",
       "        text-align: right;\n",
       "    }\n",
       "</style>\n",
       "<table border=\"1\" class=\"dataframe\">\n",
       "  <thead>\n",
       "    <tr style=\"text-align: right;\">\n",
       "      <th></th>\n",
       "      <th>delitos</th>\n",
       "    </tr>\n",
       "    <tr>\n",
       "      <th>delito</th>\n",
       "      <th></th>\n",
       "    </tr>\n",
       "  </thead>\n",
       "  <tbody>\n",
       "    <tr>\n",
       "      <td>VIOLACION TUMULTUARIA EQUIPARADA</td>\n",
       "      <td>1</td>\n",
       "    </tr>\n",
       "    <tr>\n",
       "      <td>TRAFICO DE INFLUENCIA</td>\n",
       "      <td>1</td>\n",
       "    </tr>\n",
       "    <tr>\n",
       "      <td>DAÑO EN PROPIEDAD AJENA CULPOSA POR TRÁNSITO VEHICULAR A VIAS DE COMUNICACION</td>\n",
       "      <td>1</td>\n",
       "    </tr>\n",
       "    <tr>\n",
       "      <td>PRIVACION DE LA LIBERTAD PERSONAL (REALIZAR ACTO SEXUAL)</td>\n",
       "      <td>1</td>\n",
       "    </tr>\n",
       "    <tr>\n",
       "      <td>ROBO A SUCURSAL BANCARIA CON VIOLENCIA</td>\n",
       "      <td>1</td>\n",
       "    </tr>\n",
       "    <tr>\n",
       "      <td>ROBO DE VEHICULO DE SERVICIO OFICIAL CON VIOLENCIA</td>\n",
       "      <td>1</td>\n",
       "    </tr>\n",
       "    <tr>\n",
       "      <td>ROBO DE MAQUINARIA CON VIOLENCIA</td>\n",
       "      <td>1</td>\n",
       "    </tr>\n",
       "    <tr>\n",
       "      <td>ROBO A TRANSEUNTE EN VIA PUBLICA (NOMINA) SIN VIOLENCIA</td>\n",
       "      <td>1</td>\n",
       "    </tr>\n",
       "    <tr>\n",
       "      <td>ROBO A TRANSEUNTE DE CELULAR CON VIOLENCIA</td>\n",
       "      <td>1</td>\n",
       "    </tr>\n",
       "    <tr>\n",
       "      <td>ROBO DE VEHICULO ELECTRICO MOTOPATIN</td>\n",
       "      <td>1</td>\n",
       "    </tr>\n",
       "    <tr>\n",
       "      <td>ROBO DE VEHICULO EN PENSION, TALLER Y AGENCIAS C/V</td>\n",
       "      <td>1</td>\n",
       "    </tr>\n",
       "    <tr>\n",
       "      <td>ROBO EN INTERIOR DE EMPRESA (NOMINA) SIN VIOLENCIA</td>\n",
       "      <td>1</td>\n",
       "    </tr>\n",
       "    <tr>\n",
       "      <td>EJERCICIO INDEBIDO DEL PROPIO DER.</td>\n",
       "      <td>1</td>\n",
       "    </tr>\n",
       "    <tr>\n",
       "      <td>ROBO A PASAJERO EN TREN LIGERO CON VIOLENCIA</td>\n",
       "      <td>1</td>\n",
       "    </tr>\n",
       "    <tr>\n",
       "      <td>ROBO A PASAJERO EN RTP SIN VIOLENCIA</td>\n",
       "      <td>1</td>\n",
       "    </tr>\n",
       "    <tr>\n",
       "      <td>BIGAMIA</td>\n",
       "      <td>1</td>\n",
       "    </tr>\n",
       "    <tr>\n",
       "      <td>ROBO A NEGOCIO Y VEHICULO SIN VIOLENCIA</td>\n",
       "      <td>1</td>\n",
       "    </tr>\n",
       "    <tr>\n",
       "      <td>ROBO DE MAQUINARIA SIN VIOLENCIA</td>\n",
       "      <td>1</td>\n",
       "    </tr>\n",
       "    <tr>\n",
       "      <td>REGULACIÓN URBANA</td>\n",
       "      <td>1</td>\n",
       "    </tr>\n",
       "    <tr>\n",
       "      <td>HOMICIDIO CULPOSO FUERA DEL D.F (COLISION)</td>\n",
       "      <td>1</td>\n",
       "    </tr>\n",
       "  </tbody>\n",
       "</table>\n",
       "</div>"
      ],
      "text/plain": [
       "                                                    delitos\n",
       "delito                                                     \n",
       "VIOLACION TUMULTUARIA EQUIPARADA                          1\n",
       "TRAFICO DE INFLUENCIA                                     1\n",
       "DAÑO EN PROPIEDAD AJENA CULPOSA POR TRÁNSITO VE...        1\n",
       "PRIVACION DE LA LIBERTAD PERSONAL (REALIZAR ACT...        1\n",
       "ROBO A SUCURSAL BANCARIA CON VIOLENCIA                    1\n",
       "ROBO DE VEHICULO DE SERVICIO OFICIAL CON VIOLENCIA        1\n",
       "ROBO DE MAQUINARIA CON VIOLENCIA                          1\n",
       "ROBO A TRANSEUNTE EN VIA PUBLICA (NOMINA) SIN V...        1\n",
       "ROBO A TRANSEUNTE DE CELULAR CON VIOLENCIA                1\n",
       "ROBO DE VEHICULO ELECTRICO MOTOPATIN                      1\n",
       "ROBO DE VEHICULO EN PENSION, TALLER Y AGENCIAS C/V        1\n",
       "ROBO EN INTERIOR DE EMPRESA (NOMINA) SIN VIOLENCIA        1\n",
       "EJERCICIO INDEBIDO DEL PROPIO DER.                        1\n",
       "ROBO A PASAJERO EN TREN LIGERO CON VIOLENCIA              1\n",
       "ROBO A PASAJERO EN RTP SIN VIOLENCIA                      1\n",
       "BIGAMIA                                                   1\n",
       "ROBO A NEGOCIO Y VEHICULO SIN VIOLENCIA                   1\n",
       "ROBO DE MAQUINARIA SIN VIOLENCIA                          1\n",
       "REGULACIÓN URBANA                                         1\n",
       "HOMICIDIO CULPOSO FUERA DEL D.F (COLISION)                1"
      ]
     },
     "execution_count": 1013,
     "metadata": {},
     "output_type": "execute_result"
    }
   ],
   "source": [
    "#filtrado de delitos desde Mayo 2021 y conteo por tipo de delito\n",
    "del_cdmx[['delito','delitos']][del_cdmx['fecha_hechos_dt']>=pd.Timestamp(2021,5,1)].groupby('delito').count().sort_values('delitos',ascending = False).tail(20)"
   ]
  },
  {
   "cell_type": "markdown",
   "metadata": {},
   "source": [
    "Muchos tipos de delitos tienen muy pocas ocurrencias en dos meses. Para analizar las tendencias acutuales, el análisis se restringe a aquellos tipos de delitos que han ocurrido diariamente en el periodo de Mayo 1 a Junio 30. Estos tipos de delitos son 20 y se muestran a continuación, acompañados de la frecuencia diaria promedio con la que ocurrieron en el periodo de Mayo 1 a Junio 30, redondeada al entero más cercano."
   ]
  },
  {
   "cell_type": "code",
   "execution_count": 1086,
   "metadata": {},
   "outputs": [
    {
     "data": {
      "text/html": [
       "<div>\n",
       "<style scoped>\n",
       "    .dataframe tbody tr th:only-of-type {\n",
       "        vertical-align: middle;\n",
       "    }\n",
       "\n",
       "    .dataframe tbody tr th {\n",
       "        vertical-align: top;\n",
       "    }\n",
       "\n",
       "    .dataframe thead th {\n",
       "        text-align: right;\n",
       "    }\n",
       "</style>\n",
       "<table border=\"1\" class=\"dataframe\">\n",
       "  <thead>\n",
       "    <tr style=\"text-align: right;\">\n",
       "      <th></th>\n",
       "      <th>mean</th>\n",
       "    </tr>\n",
       "    <tr>\n",
       "      <th>delito</th>\n",
       "      <th></th>\n",
       "    </tr>\n",
       "  </thead>\n",
       "  <tbody>\n",
       "    <tr>\n",
       "      <td>VIOLENCIA FAMILIAR</td>\n",
       "      <td>87</td>\n",
       "    </tr>\n",
       "    <tr>\n",
       "      <td>AMENAZAS</td>\n",
       "      <td>43</td>\n",
       "    </tr>\n",
       "    <tr>\n",
       "      <td>FRAUDE</td>\n",
       "      <td>28</td>\n",
       "    </tr>\n",
       "    <tr>\n",
       "      <td>ROBO DE OBJETOS</td>\n",
       "      <td>25</td>\n",
       "    </tr>\n",
       "    <tr>\n",
       "      <td>ROBO A TRANSEUNTE EN VIA PUBLICA CON VIOLENCIA</td>\n",
       "      <td>22</td>\n",
       "    </tr>\n",
       "    <tr>\n",
       "      <td>ROBO DE ACCESORIOS DE AUTO</td>\n",
       "      <td>22</td>\n",
       "    </tr>\n",
       "    <tr>\n",
       "      <td>ROBO DE OBJETOS DEL INTERIOR DE UN VEHICULO</td>\n",
       "      <td>15</td>\n",
       "    </tr>\n",
       "    <tr>\n",
       "      <td>ROBO A NEGOCIO SIN VIOLENCIA POR FARDEROS (TIENDAS DE AUTOSERVICIO)</td>\n",
       "      <td>15</td>\n",
       "    </tr>\n",
       "    <tr>\n",
       "      <td>NARCOMENUDEO POSESION SIMPLE</td>\n",
       "      <td>10</td>\n",
       "    </tr>\n",
       "    <tr>\n",
       "      <td>ROBO DE VEHICULO DE SERVICIO PARTICULAR SIN VIOLENCIA</td>\n",
       "      <td>10</td>\n",
       "    </tr>\n",
       "    <tr>\n",
       "      <td>ROBO A NEGOCIO SIN VIOLENCIA</td>\n",
       "      <td>9</td>\n",
       "    </tr>\n",
       "    <tr>\n",
       "      <td>DAÑO EN PROPIEDAD AJENA CULPOSA POR TRÁNSITO VEHICULAR A AUTOMOVIL</td>\n",
       "      <td>8</td>\n",
       "    </tr>\n",
       "    <tr>\n",
       "      <td>ABUSO SEXUAL</td>\n",
       "      <td>8</td>\n",
       "    </tr>\n",
       "    <tr>\n",
       "      <td>DESPOJO</td>\n",
       "      <td>8</td>\n",
       "    </tr>\n",
       "    <tr>\n",
       "      <td>ROBO A CASA HABITACION SIN VIOLENCIA</td>\n",
       "      <td>8</td>\n",
       "    </tr>\n",
       "    <tr>\n",
       "      <td>LESIONES CULPOSAS POR TRANSITO VEHICULAR EN COLISION</td>\n",
       "      <td>7</td>\n",
       "    </tr>\n",
       "    <tr>\n",
       "      <td>ROBO A PASAJERO / CONDUCTOR DE VEHICULO CON VIOLENCIA</td>\n",
       "      <td>5</td>\n",
       "    </tr>\n",
       "    <tr>\n",
       "      <td>ROBO A TRANSEUNTE EN VIA PUBLICA SIN VIOLENCIA</td>\n",
       "      <td>5</td>\n",
       "    </tr>\n",
       "    <tr>\n",
       "      <td>DAÑO EN PROPIEDAD AJENA INTENCIONAL</td>\n",
       "      <td>5</td>\n",
       "    </tr>\n",
       "    <tr>\n",
       "      <td>ROBO DE PLACA DE AUTOMOVIL</td>\n",
       "      <td>5</td>\n",
       "    </tr>\n",
       "  </tbody>\n",
       "</table>\n",
       "</div>"
      ],
      "text/plain": [
       "                                                    mean\n",
       "delito                                                  \n",
       "VIOLENCIA FAMILIAR                                    87\n",
       "AMENAZAS                                              43\n",
       "FRAUDE                                                28\n",
       "ROBO DE OBJETOS                                       25\n",
       "ROBO A TRANSEUNTE EN VIA PUBLICA CON VIOLENCIA        22\n",
       "ROBO DE ACCESORIOS DE AUTO                            22\n",
       "ROBO DE OBJETOS DEL INTERIOR DE UN VEHICULO           15\n",
       "ROBO A NEGOCIO SIN VIOLENCIA POR FARDEROS (TIEN...    15\n",
       "NARCOMENUDEO POSESION SIMPLE                          10\n",
       "ROBO DE VEHICULO DE SERVICIO PARTICULAR SIN VIO...    10\n",
       "ROBO A NEGOCIO SIN VIOLENCIA                           9\n",
       "DAÑO EN PROPIEDAD AJENA CULPOSA POR TRÁNSITO VE...     8\n",
       "ABUSO SEXUAL                                           8\n",
       "DESPOJO                                                8\n",
       "ROBO A CASA HABITACION SIN VIOLENCIA                   8\n",
       "LESIONES CULPOSAS POR TRANSITO VEHICULAR EN COL...     7\n",
       "ROBO A PASAJERO / CONDUCTOR DE VEHICULO CON VIO...     5\n",
       "ROBO A TRANSEUNTE EN VIA PUBLICA SIN VIOLENCIA         5\n",
       "DAÑO EN PROPIEDAD AJENA INTENCIONAL                    5\n",
       "ROBO DE PLACA DE AUTOMOVIL                             5"
      ]
     },
     "execution_count": 1086,
     "metadata": {},
     "output_type": "execute_result"
    }
   ],
   "source": [
    "#se seleccionan las variables de tipo de delito, fecha, y la variable dummy, con el filtro de fechas\n",
    "del_trend = del_cdmx[['delito','fecha_hechos_dt','delitos']][del_cdmx['fecha_hechos_dt']>=pd.Timestamp(2021,5,1)]\n",
    "\n",
    "#se agrupa la tabla por tipo de delito y fecha, y se hace un conteo de numero de delitos\n",
    "#se resetea el indice para tener los indices como valores\n",
    "del_trend = del_trend.groupby(['delito','fecha_hechos_dt']).count().reset_index()\n",
    "\n",
    "#agrupando por tipo de delito se cuenta el numero de dias en el periodo Mayo 1 - Junio 30 en donde hubo ocurrencia\n",
    "#tambien se calcula el numero promedio de delitos por dia\n",
    "del_trend = del_trend[['delito','delitos']].groupby('delito').agg(['count','mean'])\n",
    "\n",
    "#se seleccionan unicamente los tipos de delito con ocurrencia diaria en todo el periodo Mayo 1 - Junio 30 (61 dias)\n",
    "#se muestra el promedio de incidencias diarias\n",
    "del_trend = del_trend['delitos'][del_trend['delitos']['count']==61][['mean']].sort_values('mean',ascending=False)\n",
    "del_trend.round().astype(int)"
   ]
  },
  {
   "cell_type": "markdown",
   "metadata": {},
   "source": [
    "Una vez identificados estos delitos, es posible evaluar su tendencia en los últimos dos meses visualmente mediante un gráfico y un promedio móvil con ventana de tiempo de 7 días, para suavizar el ruido. Por ejemplo, para el caso del delito de violencia familiar, se tiene la siguiente serie de observaciones diarias, en donde se puede apreciar una tendencia clara a la baja."
   ]
  },
  {
   "cell_type": "code",
   "execution_count": 1122,
   "metadata": {},
   "outputs": [
    {
     "data": {
      "image/png": "[encoded data removed]",
      "text/plain": [
       "<Figure size 432x288 with 1 Axes>"
      ]
     },
     "metadata": {
      "needs_background": "light"
     },
     "output_type": "display_data"
    }
   ],
   "source": [
    "#conteo de delitos de violencia familiar por dia desde Mayo 2021 y grafico de serie de tiempo\n",
    "trend = del_cdmx[['fecha_hechos_dt','delitos']][(del_cdmx['fecha_hechos_dt']>=pd.Timestamp(2021,5,1)) & (del_cdmx['delito'] == \"VIOLENCIA FAMILIAR\")].groupby('fecha_hechos_dt').count()\n",
    "\n",
    "#generar promedio movil con una ventana de tiempo de 10 dias y graficar\n",
    "trend['promedio_movil'] = trend.rolling(window=7).mean()\n",
    "trend.plot()\n",
    "plt.xlabel(\"tiempo\")\n",
    "plt.title(\"Delitos diarios en la CDMX\")\n",
    "plt.tight_layout()\n",
    "plt.show()"
   ]
  },
  {
   "cell_type": "markdown",
   "metadata": {},
   "source": [
    "Si bien es posible apreciar tendencias de manera visual, es conveniente buscar una cantidad que exprese la fuerza y dirección de dicha tendencia para cada uno de los delitos de interés.\n",
    "\n",
    "Para esto, se propone utilizar regresión lineal. El modelo de regresión lineal no es el ideal para el análisis de series de tiempo, principalmente debido a la autocorrelación entre observaciones que rompe con supuestos distribucionales y distorsiona los p-values y potencias en las pruebas de significancia usuales. Sin embargo, esta técnica sí es utilizada comunmente con el objetivo de estimar tendencias.\n",
    "\n",
    "Por tanto, para cada uno de los 20 delitos anteriores se ajusta el modelo de regresión lineal simple\n",
    "\n",
    "$$\n",
    "\\mathbb{E}(y_i) = \\beta_0 + \\beta_1 t_i\n",
    "$$\n",
    "\n",
    "por mínimos cuadrados (usando `sklearn`), y se obtienen el valor estimado de la pendiente y el cuadrado del coeficiente de correlación de Pearson, que en el caso de la regresión lineal simple es igual al coeficiente de determinación $R^2$."
   ]
  },
  {
   "cell_type": "markdown",
   "metadata": {},
   "source": [
    "Para esto, se construye una tabla con el número de delitos diarios desde Mayo 1 hasta Junio 30 de 2021 (61 dias en total), por tipo de delito y fecha."
   ]
  },
  {
   "cell_type": "code",
   "execution_count": 1135,
   "metadata": {},
   "outputs": [
    {
     "data": {
      "text/html": [
       "<div>\n",
       "<style scoped>\n",
       "    .dataframe tbody tr th:only-of-type {\n",
       "        vertical-align: middle;\n",
       "    }\n",
       "\n",
       "    .dataframe tbody tr th {\n",
       "        vertical-align: top;\n",
       "    }\n",
       "\n",
       "    .dataframe thead th {\n",
       "        text-align: right;\n",
       "    }\n",
       "</style>\n",
       "<table border=\"1\" class=\"dataframe\">\n",
       "  <thead>\n",
       "    <tr style=\"text-align: right;\">\n",
       "      <th></th>\n",
       "      <th>delito</th>\n",
       "      <th>fecha_hechos_dt</th>\n",
       "      <th>delitos</th>\n",
       "    </tr>\n",
       "  </thead>\n",
       "  <tbody>\n",
       "    <tr>\n",
       "      <td>0</td>\n",
       "      <td>ABUSO SEXUAL</td>\n",
       "      <td>2021-05-01</td>\n",
       "      <td>8</td>\n",
       "    </tr>\n",
       "    <tr>\n",
       "      <td>1</td>\n",
       "      <td>ABUSO SEXUAL</td>\n",
       "      <td>2021-05-02</td>\n",
       "      <td>11</td>\n",
       "    </tr>\n",
       "    <tr>\n",
       "      <td>2</td>\n",
       "      <td>ABUSO SEXUAL</td>\n",
       "      <td>2021-05-03</td>\n",
       "      <td>12</td>\n",
       "    </tr>\n",
       "    <tr>\n",
       "      <td>3</td>\n",
       "      <td>ABUSO SEXUAL</td>\n",
       "      <td>2021-05-04</td>\n",
       "      <td>11</td>\n",
       "    </tr>\n",
       "    <tr>\n",
       "      <td>4</td>\n",
       "      <td>ABUSO SEXUAL</td>\n",
       "      <td>2021-05-05</td>\n",
       "      <td>9</td>\n",
       "    </tr>\n",
       "    <tr>\n",
       "      <td>...</td>\n",
       "      <td>...</td>\n",
       "      <td>...</td>\n",
       "      <td>...</td>\n",
       "    </tr>\n",
       "    <tr>\n",
       "      <td>1215</td>\n",
       "      <td>VIOLENCIA FAMILIAR</td>\n",
       "      <td>2021-06-26</td>\n",
       "      <td>75</td>\n",
       "    </tr>\n",
       "    <tr>\n",
       "      <td>1216</td>\n",
       "      <td>VIOLENCIA FAMILIAR</td>\n",
       "      <td>2021-06-27</td>\n",
       "      <td>82</td>\n",
       "    </tr>\n",
       "    <tr>\n",
       "      <td>1217</td>\n",
       "      <td>VIOLENCIA FAMILIAR</td>\n",
       "      <td>2021-06-28</td>\n",
       "      <td>61</td>\n",
       "    </tr>\n",
       "    <tr>\n",
       "      <td>1218</td>\n",
       "      <td>VIOLENCIA FAMILIAR</td>\n",
       "      <td>2021-06-29</td>\n",
       "      <td>47</td>\n",
       "    </tr>\n",
       "    <tr>\n",
       "      <td>1219</td>\n",
       "      <td>VIOLENCIA FAMILIAR</td>\n",
       "      <td>2021-06-30</td>\n",
       "      <td>27</td>\n",
       "    </tr>\n",
       "  </tbody>\n",
       "</table>\n",
       "<p>1220 rows × 3 columns</p>\n",
       "</div>"
      ],
      "text/plain": [
       "                  delito fecha_hechos_dt  delitos\n",
       "0           ABUSO SEXUAL      2021-05-01        8\n",
       "1           ABUSO SEXUAL      2021-05-02       11\n",
       "2           ABUSO SEXUAL      2021-05-03       12\n",
       "3           ABUSO SEXUAL      2021-05-04       11\n",
       "4           ABUSO SEXUAL      2021-05-05        9\n",
       "...                  ...             ...      ...\n",
       "1215  VIOLENCIA FAMILIAR      2021-06-26       75\n",
       "1216  VIOLENCIA FAMILIAR      2021-06-27       82\n",
       "1217  VIOLENCIA FAMILIAR      2021-06-28       61\n",
       "1218  VIOLENCIA FAMILIAR      2021-06-29       47\n",
       "1219  VIOLENCIA FAMILIAR      2021-06-30       27\n",
       "\n",
       "[1220 rows x 3 columns]"
      ]
     },
     "execution_count": 1135,
     "metadata": {},
     "output_type": "execute_result"
    }
   ],
   "source": [
    "#delitos con indicencias diarias\n",
    "del_diarios = pd.Series(del_trend.index)\n",
    "\n",
    "#data set con numero de delitos por tipo de delito y fecha\n",
    "#se seleccionan las variables de tipo de delito, fecha, y la variable dummy, con el filtro de fechas y delitos\n",
    "df_tendencias = del_cdmx[['delito','fecha_hechos_dt','delitos']][(del_cdmx['fecha_hechos_dt']>=pd.Timestamp(2021,5,1))&(del_cdmx['delito'].isin(del_diarios))]\n",
    "\n",
    "#se agrupa la tabla por tipo de delito y fecha, y se hace un conteo de numero de delitos\n",
    "#se resetea el indice para tener los indices como valores\n",
    "df_tendencias = df_tendencias.groupby(['delito','fecha_hechos_dt']).count().reset_index()\n",
    "df_tendencias"
   ]
  },
  {
   "cell_type": "markdown",
   "metadata": {},
   "source": [
    "Posteriormente se define una funcion que admite el tipo de delito, y devulve la pendiente y $R^2$ resultantes del ajuste por mínimos cuadrados del modelo lineal a la serie de delitos diarios."
   ]
  },
  {
   "cell_type": "code",
   "execution_count": 1205,
   "metadata": {},
   "outputs": [],
   "source": [
    "#funcion con tipo de delito como unico parametro\n",
    "def tendencia(tipo_delito):\n",
    "#filtrado de la tabla anterior por tipo de delito\n",
    "    df = df_tendencias[df_tendencias['delito']==tipo_delito]\n",
    "#ajuste de modelo lineal\n",
    "    lm = LinearRegression().fit(X = np.arange(0,61).reshape(-1,1),y=df.delitos)\n",
    "#se devuelven pendiente y R^2 en una lista\n",
    "    return [lm.coef_[0] , lm.score(X = np.arange(0,61).reshape(-1,1),y=df.delitos)]"
   ]
  },
  {
   "cell_type": "markdown",
   "metadata": {},
   "source": [
    "Por último, se aplica la función anterior a cada tipo de delito y se construye una tabla con cada tipo, y sus correspondientes estadísticos calculados a partir de cada modelo de regresión ajustado, redondeados a dos decimales. Los resultados se ordenan de menor a mayor pendiente. Recordemos que una pendiente positiva puede indicar una tendencia a la alza, y una negativa una tendencia a la baja."
   ]
  },
  {
   "cell_type": "code",
   "execution_count": 1275,
   "metadata": {},
   "outputs": [
    {
     "data": {
      "text/html": [
       "<div>\n",
       "<style scoped>\n",
       "    .dataframe tbody tr th:only-of-type {\n",
       "        vertical-align: middle;\n",
       "    }\n",
       "\n",
       "    .dataframe tbody tr th {\n",
       "        vertical-align: top;\n",
       "    }\n",
       "\n",
       "    .dataframe thead th {\n",
       "        text-align: right;\n",
       "    }\n",
       "</style>\n",
       "<table border=\"1\" class=\"dataframe\">\n",
       "  <thead>\n",
       "    <tr style=\"text-align: right;\">\n",
       "      <th></th>\n",
       "      <th>delito</th>\n",
       "      <th>pendiente</th>\n",
       "      <th>coef_determinacion</th>\n",
       "    </tr>\n",
       "  </thead>\n",
       "  <tbody>\n",
       "    <tr>\n",
       "      <td>19</td>\n",
       "      <td>VIOLENCIA FAMILIAR</td>\n",
       "      <td>-0.57</td>\n",
       "      <td>0.24</td>\n",
       "    </tr>\n",
       "    <tr>\n",
       "      <td>1</td>\n",
       "      <td>AMENAZAS</td>\n",
       "      <td>-0.41</td>\n",
       "      <td>0.42</td>\n",
       "    </tr>\n",
       "    <tr>\n",
       "      <td>5</td>\n",
       "      <td>FRAUDE</td>\n",
       "      <td>-0.26</td>\n",
       "      <td>0.13</td>\n",
       "    </tr>\n",
       "    <tr>\n",
       "      <td>15</td>\n",
       "      <td>ROBO DE OBJETOS</td>\n",
       "      <td>-0.12</td>\n",
       "      <td>0.10</td>\n",
       "    </tr>\n",
       "    <tr>\n",
       "      <td>14</td>\n",
       "      <td>ROBO DE ACCESORIOS DE AUTO</td>\n",
       "      <td>-0.11</td>\n",
       "      <td>0.12</td>\n",
       "    </tr>\n",
       "    <tr>\n",
       "      <td>4</td>\n",
       "      <td>DESPOJO</td>\n",
       "      <td>-0.11</td>\n",
       "      <td>0.30</td>\n",
       "    </tr>\n",
       "    <tr>\n",
       "      <td>9</td>\n",
       "      <td>ROBO A NEGOCIO SIN VIOLENCIA</td>\n",
       "      <td>-0.09</td>\n",
       "      <td>0.17</td>\n",
       "    </tr>\n",
       "    <tr>\n",
       "      <td>12</td>\n",
       "      <td>ROBO A TRANSEUNTE EN VIA PUBLICA CON VIOLENCIA</td>\n",
       "      <td>-0.08</td>\n",
       "      <td>0.06</td>\n",
       "    </tr>\n",
       "    <tr>\n",
       "      <td>0</td>\n",
       "      <td>ABUSO SEXUAL</td>\n",
       "      <td>-0.07</td>\n",
       "      <td>0.17</td>\n",
       "    </tr>\n",
       "    <tr>\n",
       "      <td>8</td>\n",
       "      <td>ROBO A CASA HABITACION SIN VIOLENCIA</td>\n",
       "      <td>-0.06</td>\n",
       "      <td>0.10</td>\n",
       "    </tr>\n",
       "    <tr>\n",
       "      <td>16</td>\n",
       "      <td>ROBO DE OBJETOS DEL INTERIOR DE UN VEHICULO</td>\n",
       "      <td>-0.06</td>\n",
       "      <td>0.03</td>\n",
       "    </tr>\n",
       "    <tr>\n",
       "      <td>11</td>\n",
       "      <td>ROBO A PASAJERO / CONDUCTOR DE VEHICULO CON VI...</td>\n",
       "      <td>-0.04</td>\n",
       "      <td>0.07</td>\n",
       "    </tr>\n",
       "    <tr>\n",
       "      <td>18</td>\n",
       "      <td>ROBO DE VEHICULO DE SERVICIO PARTICULAR SIN VI...</td>\n",
       "      <td>-0.03</td>\n",
       "      <td>0.02</td>\n",
       "    </tr>\n",
       "    <tr>\n",
       "      <td>3</td>\n",
       "      <td>DAÑO EN PROPIEDAD AJENA INTENCIONAL</td>\n",
       "      <td>-0.03</td>\n",
       "      <td>0.07</td>\n",
       "    </tr>\n",
       "    <tr>\n",
       "      <td>17</td>\n",
       "      <td>ROBO DE PLACA DE AUTOMOVIL</td>\n",
       "      <td>-0.03</td>\n",
       "      <td>0.03</td>\n",
       "    </tr>\n",
       "    <tr>\n",
       "      <td>6</td>\n",
       "      <td>LESIONES CULPOSAS POR TRANSITO VEHICULAR EN CO...</td>\n",
       "      <td>-0.03</td>\n",
       "      <td>0.02</td>\n",
       "    </tr>\n",
       "    <tr>\n",
       "      <td>2</td>\n",
       "      <td>DAÑO EN PROPIEDAD AJENA CULPOSA POR TRÁNSITO V...</td>\n",
       "      <td>-0.02</td>\n",
       "      <td>0.01</td>\n",
       "    </tr>\n",
       "    <tr>\n",
       "      <td>10</td>\n",
       "      <td>ROBO A NEGOCIO SIN VIOLENCIA POR FARDEROS (TIE...</td>\n",
       "      <td>-0.00</td>\n",
       "      <td>0.00</td>\n",
       "    </tr>\n",
       "    <tr>\n",
       "      <td>13</td>\n",
       "      <td>ROBO A TRANSEUNTE EN VIA PUBLICA SIN VIOLENCIA</td>\n",
       "      <td>0.01</td>\n",
       "      <td>0.01</td>\n",
       "    </tr>\n",
       "    <tr>\n",
       "      <td>7</td>\n",
       "      <td>NARCOMENUDEO POSESION SIMPLE</td>\n",
       "      <td>0.03</td>\n",
       "      <td>0.02</td>\n",
       "    </tr>\n",
       "  </tbody>\n",
       "</table>\n",
       "</div>"
      ],
      "text/plain": [
       "                                               delito  pendiente  \\\n",
       "19                                 VIOLENCIA FAMILIAR      -0.57   \n",
       "1                                            AMENAZAS      -0.41   \n",
       "5                                              FRAUDE      -0.26   \n",
       "15                                    ROBO DE OBJETOS      -0.12   \n",
       "14                         ROBO DE ACCESORIOS DE AUTO      -0.11   \n",
       "4                                             DESPOJO      -0.11   \n",
       "9                        ROBO A NEGOCIO SIN VIOLENCIA      -0.09   \n",
       "12     ROBO A TRANSEUNTE EN VIA PUBLICA CON VIOLENCIA      -0.08   \n",
       "0                                        ABUSO SEXUAL      -0.07   \n",
       "8                ROBO A CASA HABITACION SIN VIOLENCIA      -0.06   \n",
       "16        ROBO DE OBJETOS DEL INTERIOR DE UN VEHICULO      -0.06   \n",
       "11  ROBO A PASAJERO / CONDUCTOR DE VEHICULO CON VI...      -0.04   \n",
       "18  ROBO DE VEHICULO DE SERVICIO PARTICULAR SIN VI...      -0.03   \n",
       "3                 DAÑO EN PROPIEDAD AJENA INTENCIONAL      -0.03   \n",
       "17                         ROBO DE PLACA DE AUTOMOVIL      -0.03   \n",
       "6   LESIONES CULPOSAS POR TRANSITO VEHICULAR EN CO...      -0.03   \n",
       "2   DAÑO EN PROPIEDAD AJENA CULPOSA POR TRÁNSITO V...      -0.02   \n",
       "10  ROBO A NEGOCIO SIN VIOLENCIA POR FARDEROS (TIE...      -0.00   \n",
       "13     ROBO A TRANSEUNTE EN VIA PUBLICA SIN VIOLENCIA       0.01   \n",
       "7                        NARCOMENUDEO POSESION SIMPLE       0.03   \n",
       "\n",
       "    coef_determinacion  \n",
       "19                0.24  \n",
       "1                 0.42  \n",
       "5                 0.13  \n",
       "15                0.10  \n",
       "14                0.12  \n",
       "4                 0.30  \n",
       "9                 0.17  \n",
       "12                0.06  \n",
       "0                 0.17  \n",
       "8                 0.10  \n",
       "16                0.03  \n",
       "11                0.07  \n",
       "18                0.02  \n",
       "3                 0.07  \n",
       "17                0.03  \n",
       "6                 0.02  \n",
       "2                 0.01  \n",
       "10                0.00  \n",
       "13                0.01  \n",
       "7                 0.02  "
      ]
     },
     "execution_count": 1275,
     "metadata": {},
     "output_type": "execute_result"
    }
   ],
   "source": [
    "#se crea data frame para almacenar la informacion\n",
    "tendencias = pd.DataFrame()\n",
    "tendencias['delito'] = df_tendencias['delito'].unique()\n",
    "\n",
    "#se mapea la funcion anterior y se almacenen los estimados en el data frame redondeados a dos decimales\n",
    "#ordenando de menor a mayor pendiente\n",
    "estimados = pd.DataFrame(tendencias['delito'].apply(func=tendencia).to_list(), columns=['pendiente', 'coef_determinacion']).round(2)\n",
    "tendencias = pd.concat([tendencias,estimados],axis=1).sort_values('pendiente')\n",
    "tendencias"
   ]
  },
  {
   "cell_type": "markdown",
   "metadata": {},
   "source": [
    "La tabla anterior revela que la mayoría de los delitos considerados poseen pendientes negativas. Esto sugiere tendencias a la baja. Sin embargo, varias pendientes estimadas son muy cercanas a cero. Los coeficientes de determinación son en general muy pequeños, por lo cual sólo una pequeña porción de la variabilidad de los datos se explica por el modelo de regresión. Esto se debe en gran parte al ruido y a la existencia de tendencias no lineales. El interés es en realidad identificar tendencias a la baja o alta, por lo cual aún pendientes pequeñas pueden ser consideradas si van acompañadas de un coeficiente de determinación no tan cercano a cero.\n",
    "\n",
    "Lo ideal cuando se utilizan modelos de regresión lineal es hacer uso de la inferencia para construir intervalos de confianza y probar hipótesis. Desafortunadamente en este caso no pueden emplearse pruebas de significancia como se mencionó antes, debido a la autocorrelación de las observaciones y a que se tienen datos de conteo, lo cual viola la suposición de normalidad en la cual se basan las pruebas $F$ y $t$ comunmente usadas para evaluar el ajuste de la regresión. Sin embargo, podemos inspeccionar los delitos con las seis pendientes más negativas, que son superiores a 0.1 en valor abosluto, y cuyo $R^2$ también es superior a 0.1.\n",
    "\n",
    "En las graficas siguientes, pueden apreciarse en mayor o menor grado las tendencias a la baja actuales para estos seis tipos de delitos."
   ]
  },
  {
   "cell_type": "code",
   "execution_count": 1338,
   "metadata": {},
   "outputs": [
    {
     "data": {
      "image/png": "[encoded data removed]",
      "text/plain": [
       "<Figure size 720x288 with 2 Axes>"
      ]
     },
     "metadata": {
      "needs_background": "light"
     },
     "output_type": "display_data"
    }
   ],
   "source": [
    "#figura y ejes para plots acomodados en un renglon y dos columnas\n",
    "fig, (ax1,ax2) = plt.subplots(1,2, figsize=(10,4)) \n",
    "\n",
    "#tabla tipo pivot para acomodar los datos de manera adecuada para graficarlos separando por columnas los delitos\n",
    "#y asi poder graficar los conteos en colores diferentes\n",
    "#debido a las escalas, se muestran separadas las graficas\n",
    "df_tendencias[df_tendencias.delito.isin(tendencias.delito[:3])].pivot(index='fecha_hechos_dt', columns='delito', values='delitos').plot(ax=ax1)\n",
    "ax1.set_xlabel(\"tiempo\")\n",
    "df_tendencias[df_tendencias.delito.isin(tendencias.delito[3:6])].pivot(index='fecha_hechos_dt', columns='delito', values='delitos').plot(ax=ax2)\n",
    "ax2.set_xlabel(\"tiempo\")\n",
    "plt.tight_layout()\n",
    "fig.suptitle(\"Delitos dirios en la CDMX\").set_y(1)\n",
    "plt.show()"
   ]
  },
  {
   "cell_type": "markdown",
   "metadata": {},
   "source": [
    "Similarmente, se repite el procedimiento para los delitos con pendiente positiva. Sin embargo, nótese en la tabla que el valor de las pendientes estimadas para estos dos tipos de delito, son muy cercanas a cero. La gráfica que se muestra a continuación no parece mostrar una tendencia notoria en ninguno de los casos."
   ]
  },
  {
   "cell_type": "code",
   "execution_count": 1334,
   "metadata": {},
   "outputs": [
    {
     "data": {
      "image/png": "[encoded data removed]",
      "text/plain": [
       "<Figure size 432x288 with 1 Axes>"
      ]
     },
     "metadata": {
      "needs_background": "light"
     },
     "output_type": "display_data"
    }
   ],
   "source": [
    "#tabla tipo pivot para acomodar los datos de manera adecuada para graficarlos separando por columnas los delitos\n",
    "#y asi poder graficar los conteos en colores diferentes\n",
    "#debido a las escalas, se muestran separadas las graficas\n",
    "df_tendencias[df_tendencias.delito.isin(tendencias.delito[-2:])].pivot(index='fecha_hechos_dt', columns='delito', values='delitos').plot()\n",
    "plt.title(\"Delitos diarios en la CDMX\")\n",
    "plt.xlabel(\"tiempo\")\n",
    "plt.tight_layout()\n",
    "plt.show()"
   ]
  },
  {
   "cell_type": "markdown",
   "metadata": {},
   "source": [
    "Hay otros dos casos interesantes, y es el de delitos de abuso sexual y robo a negocio sin violencia, que tienen una pendiente estimada pequeña, pero un $R^2$ de los más altos de la tabla. Al graficarlos se aprecia una tendencia a la baja."
   ]
  },
  {
   "cell_type": "code",
   "execution_count": 1335,
   "metadata": {},
   "outputs": [
    {
     "data": {
      "image/png": "[encoded data removed]",
      "text/plain": [
       "<Figure size 432x288 with 1 Axes>"
      ]
     },
     "metadata": {
      "needs_background": "light"
     },
     "output_type": "display_data"
    }
   ],
   "source": [
    "#tabla tipo pivot para acomodar los datos de manera adecuada para graficarlos separando por columnas los delitos\n",
    "#y asi poder graficar los conteos en colores diferentes\n",
    "#debido a las escalas, se muestran separadas las graficas\n",
    "df_tendencias[df_tendencias.delito.isin([\"ABUSO SEXUAL\",\"ROBO A NEGOCIO SIN VIOLENCIA\"])].pivot(index='fecha_hechos_dt', columns='delito', values='delitos').plot()\n",
    "plt.title(\"Delitos diarios en la CDMX\")\n",
    "plt.xlabel(\"tiempo\")\n",
    "plt.tight_layout()\n",
    "plt.show()"
   ]
  },
  {
   "cell_type": "markdown",
   "metadata": {},
   "source": [
    "Con base en el análisis anterior, se concluye que del conjunto de los 20 delitos con incidencia diaria en la CDMX en el periodo de Mayo 1 a Junio 30 de 2021, los delitos de violencia familiar, amenazas, fraude, despojo, robo de accesorios de auto, robo de objetos, abuso sexual, y robo a negocio sin violencia, se encuentran actualmente a la baja. Por otro lado, no se identificaron delitos a la alta."
   ]
  },
  {
   "cell_type": "markdown",
   "metadata": {},
   "source": [
    "**3. ¿Cuál es la alcaldía que más delitos tiene y cuál es la que menos? ¿Por qué crees que sea\n",
    "esto?**"
   ]
  },
  {
   "cell_type": "markdown",
   "metadata": {},
   "source": [
    "La gráfica siguiente contiene los conteos de delitos por alcaldía en la CDMX, revelando que la alcaldía Cuauhtémoc tiene la mayor incidencia de delitos. Por el contrario, Milpa Alta es la alcaldía con menos delitos en la CDMX."
   ]
  },
  {
   "cell_type": "code",
   "execution_count": 1355,
   "metadata": {},
   "outputs": [
    {
     "data": {
      "image/png": "[encoded data removed]",
      "text/plain": [
       "<Figure size 432x288 with 1 Axes>"
      ]
     },
     "metadata": {
      "needs_background": "light"
     },
     "output_type": "display_data"
    }
   ],
   "source": [
    "#conteo de delitos por alcaldia usando la columna dummy\n",
    "del_cdmx[['alcaldia_hechos','delitos']].groupby('alcaldia_hechos').count().plot.bar()\n",
    "plt.xlabel(None)\n",
    "plt.title(\"Número de delitos por alcaldia\")\n",
    "plt.show()"
   ]
  },
  {
   "cell_type": "markdown",
   "metadata": {},
   "source": [
    "Una búsqueda rápida revela que la población de la alcaldía Cuauhtémoc es aproximadamente cuatro veces mayor que la de Milpa Alta. Así, esta diferencia en poblaciones no es suficiente para explicar la diferencia tan grande en el número de delitos que existe entre ambas alcaldías. Para conocer un poco más del tipo de delitos que se cometen, se cuentan y grafican los 10 delitos más frecuentes en cada alcaldía."
   ]
  },
  {
   "cell_type": "code",
   "execution_count": 1371,
   "metadata": {},
   "outputs": [
    {
     "data": {
      "image/png": "[encoded data removed]",
      "text/plain": [
       "<Figure size 432x288 with 1 Axes>"
      ]
     },
     "metadata": {
      "needs_background": "light"
     },
     "output_type": "display_data"
    }
   ],
   "source": [
    "del_cdmx[['delito','delitos']][del_cdmx['alcaldia_hechos']==\"CUAUHTEMOC\"].groupby('delito').count().sort_values('delitos',ascending=False).head(10).plot.barh().invert_yaxis()\n",
    "plt.ylabel(None)\n",
    "plt.show()"
   ]
  },
  {
   "cell_type": "code",
   "execution_count": 1372,
   "metadata": {},
   "outputs": [
    {
     "data": {
      "image/png": "[encoded data removed]",
      "text/plain": [
       "<Figure size 432x288 with 1 Axes>"
      ]
     },
     "metadata": {
      "needs_background": "light"
     },
     "output_type": "display_data"
    }
   ],
   "source": [
    "del_cdmx[['delito','delitos']][del_cdmx['alcaldia_hechos']==\"MILPA ALTA\"].groupby('delito').count().sort_values('delitos',ascending=False).head(10).plot.barh().invert_yaxis()\n",
    "plt.ylabel(None)\n",
    "plt.show()"
   ]
  },
  {
   "cell_type": "code",
   "execution_count": null,
   "metadata": {},
   "outputs": [],
   "source": []
  },
  {
   "cell_type": "code",
   "execution_count": null,
   "metadata": {},
   "outputs": [],
   "source": []
  },
  {
   "cell_type": "code",
   "execution_count": 1249,
   "metadata": {},
   "outputs": [
    {
     "data": {
      "text/plain": [
       "array([[ 1.        , -0.70204188],\n",
       "       [-0.70204188,  1.        ]])"
      ]
     },
     "execution_count": 1249,
     "metadata": {},
     "output_type": "execute_result"
    }
   ],
   "source": [
    "np.corrcoef(x=range(len(trend.promedio_movil) - sum(trend.promedio_movil.isnull())),y=trend.promedio_movil[-(len(trend.promedio_movil) - sum(trend.promedio_movil.isnull())):])"
   ]
  },
  {
   "cell_type": "code",
   "execution_count": 1250,
   "metadata": {},
   "outputs": [
    {
     "data": {
      "text/plain": [
       "array([[ 1.        , -0.41089173],\n",
       "       [-0.41089173,  1.        ]])"
      ]
     },
     "execution_count": 1250,
     "metadata": {},
     "output_type": "execute_result"
    }
   ],
   "source": [
    "np.corrcoef(x=range(len(trend.promedio_movil)),y=trend.delitos)"
   ]
  },
  {
   "cell_type": "code",
   "execution_count": 1337,
   "metadata": {},
   "outputs": [
    {
     "data": {
      "text/plain": [
       "<matplotlib.axes._subplots.AxesSubplot at 0x1e92c332b88>"
      ]
     },
     "execution_count": 1337,
     "metadata": {},
     "output_type": "execute_result"
    },
    {
     "data": {
      "image/png": "[encoded data removed]",
      "text/plain": [
       "<Figure size 432x288 with 1 Axes>"
      ]
     },
     "metadata": {
      "needs_background": "light"
     },
     "output_type": "display_data"
    }
   ],
   "source": [
    "trend = del_cdmx[['fecha_hechos_dt','delitos']][(del_cdmx['fecha_hechos_dt']>=pd.Timestamp(2021,5,1)) & (del_cdmx['delito'] == \"ROBO A CASA HABITACION SIN VIOLENCIA\")].groupby('fecha_hechos_dt').count()\n",
    "trend['promedio_movil'] = trend.rolling(window=7).mean()\n",
    "trend.plot()\n",
    "#plt.xlabel(\"tiempo\")\n",
    "#plt.title(\"Delitos diarios en la CDMX\")\n",
    "#plt.tight_layout()\n",
    "#plt.show()"
   ]
  },
  {
   "cell_type": "code",
   "execution_count": 1251,
   "metadata": {},
   "outputs": [
    {
     "data": {
      "text/plain": [
       "array([-0.08949701])"
      ]
     },
     "execution_count": 1251,
     "metadata": {},
     "output_type": "execute_result"
    }
   ],
   "source": [
    "LinearRegression().fit(X= np.arange(0,61-sum(trend.promedio_movil.isnull())).reshape(-1,1),y=trend.promedio_movil[-(len(trend.promedio_movil) - sum(trend.promedio_movil.isnull())):]).coef_"
   ]
  },
  {
   "cell_type": "code",
   "execution_count": 1252,
   "metadata": {},
   "outputs": [
    {
     "data": {
      "text/plain": [
       "array([-0.09])"
      ]
     },
     "execution_count": 1252,
     "metadata": {},
     "output_type": "execute_result"
    }
   ],
   "source": [
    "LinearRegression().fit(X= np.arange(0,61).reshape(-1,1),y=trend.delitos).coef_.round(2)"
   ]
  },
  {
   "cell_type": "code",
   "execution_count": 957,
   "metadata": {},
   "outputs": [
    {
     "data": {
      "text/plain": [
       "20    4068\n",
       "18    4003\n",
       "19    3956\n",
       "21    3887\n",
       "22    3790\n",
       "23    3684\n",
       "24    3301\n",
       "25    3149\n",
       "17    1128\n",
       "26     951\n",
       "Name: fecha_hechos, dtype: int64"
      ]
     },
     "execution_count": 957,
     "metadata": {},
     "output_type": "execute_result"
    }
   ],
   "source": [
    "pd.to_datetime( del_cdmx.fecha_hechos[del_cdmx.fecha_hechos_dt >= pd.Timestamp(2021,5,1)] ).dt.week.value_counts()"
   ]
  },
  {
   "cell_type": "code",
   "execution_count": null,
   "metadata": {},
   "outputs": [],
   "source": []
  },
  {
   "cell_type": "markdown",
   "metadata": {},
   "source": [
    "IDEAS: correlacion para tendencia: sobre promedio movil\n",
    "\n",
    "estacionalidad con boxplots y correlogramas o periodogramas y asi"
   ]
  },
  {
   "cell_type": "code",
   "execution_count": null,
   "metadata": {},
   "outputs": [],
   "source": []
  }
 ],
 "metadata": {
  "kernelspec": {
   "display_name": "Python 3",
   "language": "python",
   "name": "python3"
  },
  "language_info": {
   "codemirror_mode": {
    "name": "ipython",
    "version": 3
   },
   "file_extension": ".py",
   "mimetype": "text/x-python",
   "name": "python",
   "nbconvert_exporter": "python",
   "pygments_lexer": "ipython3",
   "version": "3.7.4"
  }
 },
 "nbformat": 4,
 "nbformat_minor": 4
}
